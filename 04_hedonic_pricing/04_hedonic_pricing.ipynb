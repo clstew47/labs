{
 "cells": [
  {
   "cell_type": "markdown",
   "metadata": {
    "vscode": {
     "languageId": "bat"
    }
   },
   "source": [
    "# Hedonic Pricing\n",
    "\n",
    "We often try to predict the price of an asset from its observable characteristics. This is generally called **hedonic pricing**: How do the unit's characteristics determine its market price?\n",
    "\n",
    "In the lab folder, there are three options: housing prices in pierce_county_house_sales.csv, car prices in cars_hw.csv, and airbnb rental prices in airbnb_hw.csv. If you know of another suitable dataset, please feel free to use that one.\n",
    "\n",
    "2. Transform your variables --- particularly categorical ones --- for use in your regression analysis.\n",
    "3. Implement an ~80/~20 train-test split. Put the test data aside.\n",
    "4. Build some simple linear models that include no transformations or interactions. Fit them, and determine their RMSE and $R^2$ on the both the training and test sets. Which of your models does the best?\n",
    "5. Include transformations and interactions, and build a more complex model that reflects your ideas about how the features of the asset determine its value. Determine its RMSE and $R^2$ on the training and test sets. How does the more complex model your build compare to the simpler ones?\n",
    "6. Summarize your results from 1 to 5. Have you learned anything about overfitting and underfitting, or model selection?\n",
    "7. If you have time, use the sklearn.linear_model.Lasso to regularize your model and select the most predictive features. Which does it select? What are the RMSE and $R^2$? We'll cover the Lasso later in detail in class.\n",
    "\n"
   ]
  },
  {
   "cell_type": "code",
   "execution_count": 1,
   "metadata": {},
   "outputs": [
    {
     "name": "stdout",
     "output_type": "stream",
     "text": [
      "Defaulting to user installation because normal site-packages is not writeable\n",
      "Requirement already satisfied: pandas in /Users/carliestewart/Library/Python/3.9/lib/python/site-packages (2.2.2)\n",
      "Requirement already satisfied: numpy in /Users/carliestewart/Library/Python/3.9/lib/python/site-packages (1.26.4)\n",
      "Requirement already satisfied: seaborn in /Users/carliestewart/Library/Python/3.9/lib/python/site-packages (0.13.2)\n",
      "Requirement already satisfied: python-dateutil>=2.8.2 in /Users/carliestewart/Library/Python/3.9/lib/python/site-packages (from pandas) (2.9.0.post0)\n",
      "Requirement already satisfied: pytz>=2020.1 in /Users/carliestewart/Library/Python/3.9/lib/python/site-packages (from pandas) (2024.1)\n",
      "Requirement already satisfied: tzdata>=2022.7 in /Users/carliestewart/Library/Python/3.9/lib/python/site-packages (from pandas) (2024.1)\n",
      "Requirement already satisfied: matplotlib!=3.6.1,>=3.4 in /Users/carliestewart/Library/Python/3.9/lib/python/site-packages (from seaborn) (3.9.2)\n",
      "Requirement already satisfied: contourpy>=1.0.1 in /Users/carliestewart/Library/Python/3.9/lib/python/site-packages (from matplotlib!=3.6.1,>=3.4->seaborn) (1.3.0)\n",
      "Requirement already satisfied: cycler>=0.10 in /Users/carliestewart/Library/Python/3.9/lib/python/site-packages (from matplotlib!=3.6.1,>=3.4->seaborn) (0.12.1)\n",
      "Requirement already satisfied: fonttools>=4.22.0 in /Users/carliestewart/Library/Python/3.9/lib/python/site-packages (from matplotlib!=3.6.1,>=3.4->seaborn) (4.54.1)\n",
      "Requirement already satisfied: kiwisolver>=1.3.1 in /Users/carliestewart/Library/Python/3.9/lib/python/site-packages (from matplotlib!=3.6.1,>=3.4->seaborn) (1.4.7)\n",
      "Requirement already satisfied: packaging>=20.0 in /Users/carliestewart/Library/Python/3.9/lib/python/site-packages (from matplotlib!=3.6.1,>=3.4->seaborn) (24.1)\n",
      "Requirement already satisfied: pillow>=8 in /Users/carliestewart/Library/Python/3.9/lib/python/site-packages (from matplotlib!=3.6.1,>=3.4->seaborn) (10.4.0)\n",
      "Requirement already satisfied: pyparsing>=2.3.1 in /Users/carliestewart/Library/Python/3.9/lib/python/site-packages (from matplotlib!=3.6.1,>=3.4->seaborn) (3.1.4)\n",
      "Requirement already satisfied: importlib-resources>=3.2.0 in /Users/carliestewart/Library/Python/3.9/lib/python/site-packages (from matplotlib!=3.6.1,>=3.4->seaborn) (6.4.5)\n",
      "Requirement already satisfied: six>=1.5 in /Library/Developer/CommandLineTools/Library/Frameworks/Python3.framework/Versions/3.9/lib/python3.9/site-packages (from python-dateutil>=2.8.2->pandas) (1.15.0)\n",
      "Requirement already satisfied: zipp>=3.1.0 in /Users/carliestewart/Library/Python/3.9/lib/python/site-packages (from importlib-resources>=3.2.0->matplotlib!=3.6.1,>=3.4->seaborn) (3.20.2)\n",
      "\n",
      "\u001b[1m[\u001b[0m\u001b[34;49mnotice\u001b[0m\u001b[1;39;49m]\u001b[0m\u001b[39;49m A new release of pip is available: \u001b[0m\u001b[31;49m24.2\u001b[0m\u001b[39;49m -> \u001b[0m\u001b[32;49m24.3.1\u001b[0m\n",
      "\u001b[1m[\u001b[0m\u001b[34;49mnotice\u001b[0m\u001b[1;39;49m]\u001b[0m\u001b[39;49m To update, run: \u001b[0m\u001b[32;49m/Library/Developer/CommandLineTools/usr/bin/python3 -m pip install --upgrade pip\u001b[0m\n"
     ]
    }
   ],
   "source": [
    "! pip install pandas numpy seaborn\n"
   ]
  },
  {
   "cell_type": "markdown",
   "metadata": {},
   "source": [
    "1. Clean the data and perform some EDA and visualization to get to know the data set."
   ]
  },
  {
   "cell_type": "code",
   "execution_count": 2,
   "metadata": {},
   "outputs": [
    {
     "data": {
      "text/html": [
       "<div>\n",
       "<style scoped>\n",
       "    .dataframe tbody tr th:only-of-type {\n",
       "        vertical-align: middle;\n",
       "    }\n",
       "\n",
       "    .dataframe tbody tr th {\n",
       "        vertical-align: top;\n",
       "    }\n",
       "\n",
       "    .dataframe thead th {\n",
       "        text-align: right;\n",
       "    }\n",
       "</style>\n",
       "<table border=\"1\" class=\"dataframe\">\n",
       "  <thead>\n",
       "    <tr style=\"text-align: right;\">\n",
       "      <th></th>\n",
       "      <th>Host Id</th>\n",
       "      <th>Host Since</th>\n",
       "      <th>Name</th>\n",
       "      <th>Neighbourhood</th>\n",
       "      <th>Property Type</th>\n",
       "      <th>Review Scores Rating (bin)</th>\n",
       "      <th>Room Type</th>\n",
       "      <th>Zipcode</th>\n",
       "      <th>Beds</th>\n",
       "      <th>Number of Records</th>\n",
       "      <th>Number Of Reviews</th>\n",
       "      <th>Price</th>\n",
       "      <th>Review Scores Rating</th>\n",
       "    </tr>\n",
       "  </thead>\n",
       "  <tbody>\n",
       "    <tr>\n",
       "      <th>0</th>\n",
       "      <td>5162530</td>\n",
       "      <td>NaN</td>\n",
       "      <td>1 Bedroom in Prime Williamsburg</td>\n",
       "      <td>Brooklyn</td>\n",
       "      <td>Apartment</td>\n",
       "      <td>NaN</td>\n",
       "      <td>Entire home/apt</td>\n",
       "      <td>11249.0</td>\n",
       "      <td>1.0</td>\n",
       "      <td>1</td>\n",
       "      <td>0</td>\n",
       "      <td>145</td>\n",
       "      <td>NaN</td>\n",
       "    </tr>\n",
       "    <tr>\n",
       "      <th>1</th>\n",
       "      <td>33134899</td>\n",
       "      <td>NaN</td>\n",
       "      <td>Sunny, Private room in Bushwick</td>\n",
       "      <td>Brooklyn</td>\n",
       "      <td>Apartment</td>\n",
       "      <td>NaN</td>\n",
       "      <td>Private room</td>\n",
       "      <td>11206.0</td>\n",
       "      <td>1.0</td>\n",
       "      <td>1</td>\n",
       "      <td>1</td>\n",
       "      <td>37</td>\n",
       "      <td>NaN</td>\n",
       "    </tr>\n",
       "    <tr>\n",
       "      <th>2</th>\n",
       "      <td>39608626</td>\n",
       "      <td>NaN</td>\n",
       "      <td>Sunny Room in Harlem</td>\n",
       "      <td>Manhattan</td>\n",
       "      <td>Apartment</td>\n",
       "      <td>NaN</td>\n",
       "      <td>Private room</td>\n",
       "      <td>10032.0</td>\n",
       "      <td>1.0</td>\n",
       "      <td>1</td>\n",
       "      <td>1</td>\n",
       "      <td>28</td>\n",
       "      <td>NaN</td>\n",
       "    </tr>\n",
       "    <tr>\n",
       "      <th>3</th>\n",
       "      <td>500</td>\n",
       "      <td>6/26/2008</td>\n",
       "      <td>Gorgeous 1 BR with Private Balcony</td>\n",
       "      <td>Manhattan</td>\n",
       "      <td>Apartment</td>\n",
       "      <td>NaN</td>\n",
       "      <td>Entire home/apt</td>\n",
       "      <td>10024.0</td>\n",
       "      <td>3.0</td>\n",
       "      <td>1</td>\n",
       "      <td>0</td>\n",
       "      <td>199</td>\n",
       "      <td>NaN</td>\n",
       "    </tr>\n",
       "    <tr>\n",
       "      <th>4</th>\n",
       "      <td>500</td>\n",
       "      <td>6/26/2008</td>\n",
       "      <td>Trendy Times Square Loft</td>\n",
       "      <td>Manhattan</td>\n",
       "      <td>Apartment</td>\n",
       "      <td>95.0</td>\n",
       "      <td>Private room</td>\n",
       "      <td>10036.0</td>\n",
       "      <td>3.0</td>\n",
       "      <td>1</td>\n",
       "      <td>39</td>\n",
       "      <td>549</td>\n",
       "      <td>96.0</td>\n",
       "    </tr>\n",
       "  </tbody>\n",
       "</table>\n",
       "</div>"
      ],
      "text/plain": [
       "    Host Id Host Since                                Name Neighbourhood   \\\n",
       "0   5162530        NaN     1 Bedroom in Prime Williamsburg       Brooklyn   \n",
       "1  33134899        NaN     Sunny, Private room in Bushwick       Brooklyn   \n",
       "2  39608626        NaN                Sunny Room in Harlem      Manhattan   \n",
       "3       500  6/26/2008  Gorgeous 1 BR with Private Balcony      Manhattan   \n",
       "4       500  6/26/2008            Trendy Times Square Loft      Manhattan   \n",
       "\n",
       "  Property Type  Review Scores Rating (bin)        Room Type  Zipcode  Beds  \\\n",
       "0     Apartment                         NaN  Entire home/apt  11249.0   1.0   \n",
       "1     Apartment                         NaN     Private room  11206.0   1.0   \n",
       "2     Apartment                         NaN     Private room  10032.0   1.0   \n",
       "3     Apartment                         NaN  Entire home/apt  10024.0   3.0   \n",
       "4     Apartment                        95.0     Private room  10036.0   3.0   \n",
       "\n",
       "   Number of Records  Number Of Reviews Price  Review Scores Rating  \n",
       "0                  1                  0   145                   NaN  \n",
       "1                  1                  1    37                   NaN  \n",
       "2                  1                  1    28                   NaN  \n",
       "3                  1                  0   199                   NaN  \n",
       "4                  1                 39   549                  96.0  "
      ]
     },
     "execution_count": 2,
     "metadata": {},
     "output_type": "execute_result"
    }
   ],
   "source": [
    "import numpy as np\n",
    "import matplotlib.pyplot as plt\n",
    "import pandas as pd\n",
    "import seaborn as sns\n",
    "\n",
    "df = pd.read_csv('airbnb_hw.csv')\n",
    "df.head()"
   ]
  },
  {
   "cell_type": "code",
   "execution_count": 3,
   "metadata": {},
   "outputs": [
    {
     "name": "stdout",
     "output_type": "stream",
     "text": [
      "Host Id                          0\n",
      "Host Since                       3\n",
      "Name                             0\n",
      "Neighbourhood                    0\n",
      "Property Type                    3\n",
      "Review Scores Rating (bin)    8323\n",
      "Room Type                        0\n",
      "Zipcode                        134\n",
      "Beds                            85\n",
      "Number of Records                0\n",
      "Number Of Reviews                0\n",
      "Price                            0\n",
      "Review Scores Rating          8323\n",
      "dtype: int64\n"
     ]
    }
   ],
   "source": [
    "# check for missing vals\n",
    "print(df.isnull().sum())"
   ]
  },
  {
   "cell_type": "code",
   "execution_count": 4,
   "metadata": {},
   "outputs": [
    {
     "name": "stdout",
     "output_type": "stream",
     "text": [
      "Host Id                       0\n",
      "Host Since                    0\n",
      "Name                          0\n",
      "Neighbourhood                 0\n",
      "Property Type                 0\n",
      "Review Scores Rating (bin)    0\n",
      "Room Type                     0\n",
      "Zipcode                       0\n",
      "Beds                          0\n",
      "Number of Records             0\n",
      "Number Of Reviews             0\n",
      "Price                         0\n",
      "Review Scores Rating          0\n",
      "dtype: int64\n"
     ]
    }
   ],
   "source": [
    "df = df.dropna()\n",
    "print(df.isnull().sum()) # drop missing values"
   ]
  },
  {
   "cell_type": "code",
   "execution_count": 5,
   "metadata": {},
   "outputs": [
    {
     "name": "stdout",
     "output_type": "stream",
     "text": [
      "Host Id                         int64\n",
      "Host Since                     object\n",
      "Name                           object\n",
      "Neighbourhood                  object\n",
      "Property Type                  object\n",
      "Review Scores Rating (bin)    float64\n",
      "Room Type                      object\n",
      "Zipcode                       float64\n",
      "Beds                          float64\n",
      "Number of Records               int64\n",
      "Number Of Reviews               int64\n",
      "Price                          object\n",
      "Review Scores Rating          float64\n",
      "dtype: object\n",
      "\n",
      "Data Types After Cleaning:\n",
      "Host Id                                int64\n",
      "Host Since                    datetime64[ns]\n",
      "Name                                  object\n",
      "Neighbourhood                         object\n",
      "Property Type                         object\n",
      "Review Scores Rating (bin)           float64\n",
      "Room Type                             object\n",
      "Zipcode                              float64\n",
      "Beds                                 float64\n",
      "Number of Records                      int64\n",
      "Number Of Reviews                      int64\n",
      "Price                                float64\n",
      "Review Scores Rating                 float64\n",
      "dtype: object\n"
     ]
    }
   ],
   "source": [
    "print(df.dtypes)\n",
    "\n",
    "# Convert 'Price' column to float\n",
    "df['Price'] = df['Price'].replace('[\\$,]', '', regex=True).astype(float)\n",
    "\n",
    "\n",
    "# Convert 'Host Since' column to datetime\n",
    "df['Host Since'] = pd.to_datetime(df['Host Since'], errors='coerce')\n",
    "\n",
    "# Confirm changes in data types and check for missing values\n",
    "print(\"\\nData Types After Cleaning:\")\n",
    "print(df.dtypes)\n",
    "\n",
    "\n"
   ]
  },
  {
   "cell_type": "code",
   "execution_count": 6,
   "metadata": {},
   "outputs": [
    {
     "name": "stdout",
     "output_type": "stream",
     "text": [
      "['Manhattan' 'Brooklyn' 'Queens' 'Bronx' 'Staten Island']\n"
     ]
    }
   ],
   "source": [
    "df.describe()\n",
    "\n",
    "print(df['Neighbourhood '].unique())"
   ]
  },
  {
   "cell_type": "code",
   "execution_count": 7,
   "metadata": {},
   "outputs": [
    {
     "name": "stdout",
     "output_type": "stream",
     "text": [
      "Index(['Host Id', 'Host Since', 'Name', 'Neighbourhood ', 'Property Type',\n",
      "       'Review Scores Rating (bin)', 'Room Type', 'Zipcode', 'Beds',\n",
      "       'Number of Records', 'Number Of Reviews', 'Price',\n",
      "       'Review Scores Rating'],\n",
      "      dtype='object')\n",
      "The most expensive borough on average is Manhattan with a mean of $183.56.\n"
     ]
    }
   ],
   "source": [
    "print(df.columns)\n",
    "\n",
    "df.columns = df.columns.str.strip()\n",
    "\n",
    "\n",
    "# Use the exact column name as displayed\n",
    "neighbourhood_stats = df.loc[:, ['Price', 'Neighbourhood']].groupby('Neighbourhood').describe()\n",
    "\n",
    "# Calculate the mean price for each neighborhood\n",
    "mean_price_neighbourhood = df.groupby('Neighbourhood')['Price'].mean()\n",
    "\n",
    "# Find the neighborhood with the highest mean price\n",
    "most_expensive_neighbourhood = mean_price_neighbourhood.idxmax()\n",
    "highest_mean_price = mean_price_neighbourhood.max()\n",
    "\n",
    "print(f\"The most expensive borough on average is {most_expensive_neighbourhood} with a mean of ${highest_mean_price:.2f}.\")"
   ]
  },
  {
   "cell_type": "code",
   "execution_count": 8,
   "metadata": {},
   "outputs": [
    {
     "data": {
      "image/png": "[encoded data removed]",
      "text/plain": [
       "<Figure size 1200x800 with 1 Axes>"
      ]
     },
     "metadata": {},
     "output_type": "display_data"
    }
   ],
   "source": [
    "plt.figure(figsize=(12, 8))\n",
    "sns.boxplot(x='Neighbourhood', y='Price', data=df)\n",
    "plt.xticks(rotation=90)\n",
    "plt.title('Price Distribution by Neighborhood')\n",
    "plt.xlabel('Neighborhood')\n",
    "plt.ylabel('Price')\n",
    "plt.show()"
   ]
  },
  {
   "cell_type": "code",
   "execution_count": 9,
   "metadata": {},
   "outputs": [
    {
     "data": {
      "image/png": "[encoded data removed]",
      "text/plain": [
       "<Figure size 640x480 with 1 Axes>"
      ]
     },
     "metadata": {},
     "output_type": "display_data"
    },
    {
     "data": {
      "image/png": "[encoded data removed]",
      "text/plain": [
       "<Figure size 640x480 with 1 Axes>"
      ]
     },
     "metadata": {},
     "output_type": "display_data"
    }
   ],
   "source": [
    "sns.kdeplot(x=df['Price'], hue=df['Neighbourhood'])\n",
    "plt.show()\n",
    "\n",
    "sns.kdeplot(x=np.log(df['Price']), hue=df['Neighbourhood'])\n",
    "plt.show()"
   ]
  },
  {
   "cell_type": "markdown",
   "metadata": {},
   "source": [
    "2. Transform your variables --- particularly categorical ones --- for use in your regression analysis."
   ]
  },
  {
   "cell_type": "code",
   "execution_count": 10,
   "metadata": {},
   "outputs": [
    {
     "data": {
      "text/plain": [
       "Host Id                                int64\n",
       "Host Since                    datetime64[ns]\n",
       "Name                                  object\n",
       "Neighbourhood                         object\n",
       "Property Type                         object\n",
       "Review Scores Rating (bin)           float64\n",
       "Room Type                             object\n",
       "Zipcode                              float64\n",
       "Beds                                 float64\n",
       "Number of Records                      int64\n",
       "Number Of Reviews                      int64\n",
       "Price                                float64\n",
       "Review Scores Rating                 float64\n",
       "dtype: object"
      ]
     },
     "execution_count": 10,
     "metadata": {},
     "output_type": "execute_result"
    }
   ],
   "source": [
    "df.dtypes"
   ]
  },
  {
   "cell_type": "code",
   "execution_count": 11,
   "metadata": {},
   "outputs": [
    {
     "name": "stdout",
     "output_type": "stream",
     "text": [
      "   Host Id Host Since                                 Name Property Type  \\\n",
      "4      500 2008-06-26             Trendy Times Square Loft     Apartment   \n",
      "5     1039 2008-07-25   Big Greenpoint 1BD w/ Skyline View     Apartment   \n",
      "6     1783 2008-08-12                         Amazing Also     Apartment   \n",
      "7     2078 2008-08-15  Colorful, quiet, & near the subway!     Apartment   \n",
      "8     2339 2008-08-20  East Village Cocoon: 2 Bedroom Flat     Apartment   \n",
      "\n",
      "   Review Scores Rating (bin)  Zipcode  Beds  Number of Records  \\\n",
      "4                        95.0  10036.0   3.0                  1   \n",
      "5                       100.0  11222.0   1.0                  1   \n",
      "6                       100.0  10004.0   1.0                  1   \n",
      "7                        90.0  11201.0   1.0                  1   \n",
      "8                        90.0  10009.0   2.0                  1   \n",
      "\n",
      "   Number Of Reviews  Review Scores Rating  Neighbourhood_Brooklyn  \\\n",
      "4                 39                  96.0                   False   \n",
      "5                  4                 100.0                    True   \n",
      "6                  9                 100.0                   False   \n",
      "7                 80                  94.0                    True   \n",
      "8                 95                  90.0                   False   \n",
      "\n",
      "   Neighbourhood_Manhattan  Neighbourhood_Queens  Neighbourhood_Staten Island  \\\n",
      "4                     True                 False                        False   \n",
      "5                    False                 False                        False   \n",
      "6                     True                 False                        False   \n",
      "7                    False                 False                        False   \n",
      "8                     True                 False                        False   \n",
      "\n",
      "   Room Type_Private room  Room Type_Shared room  \n",
      "4                    True                  False  \n",
      "5                   False                  False  \n",
      "6                   False                  False  \n",
      "7                    True                  False  \n",
      "8                   False                  False  \n",
      "4    6.309918\n",
      "5    5.010635\n",
      "6    5.525453\n",
      "7    4.510860\n",
      "8    5.602119\n",
      "Name: Price, dtype: float64\n"
     ]
    }
   ],
   "source": [
    "# Perform one-hot encoding for categorical variables like 'Neighbourhood'\n",
    "df_encoded = pd.get_dummies(df, columns=['Neighbourhood', 'Room Type'], drop_first=True)\n",
    "\n",
    "# Log-transform 'Price' to reduce skewness\n",
    "df_encoded['Price'] = np.log(df_encoded['Price'] + 1)  # Add 1 to avoid log(0)\n",
    "\n",
    "\n",
    "# Define target variable and predictor variables\n",
    "y = df_encoded['Price']\n",
    "X = df_encoded.drop(columns=['Price'])\n",
    "\n",
    "print(X.head())\n",
    "print(y.head())\n"
   ]
  },
  {
   "cell_type": "markdown",
   "metadata": {},
   "source": [
    "3. Implement an ~80/~20 train-test split. Put the test data aside."
   ]
  },
  {
   "cell_type": "code",
   "execution_count": 12,
   "metadata": {},
   "outputs": [
    {
     "name": "stdout",
     "output_type": "stream",
     "text": [
      "R-squared:  0.0842055617885199\n",
      "RMSE:  108.12766265930246\n",
      "               variable  coefficient\n",
      "0  Review Scores Rating     1.069809\n",
      "1                 Bronx   -21.756979\n",
      "2              Brooklyn    29.265396\n",
      "3             Manhattan    85.927849\n",
      "4                Queens    -0.366920\n",
      "5         Staten Island    57.435061\n"
     ]
    }
   ],
   "source": [
    "from sklearn import linear_model\n",
    "from sklearn.model_selection import train_test_split\n",
    "# Define the target and predictor variables\n",
    "y = df['Price']\n",
    "X = df[['Review Scores Rating', 'Neighbourhood']]\n",
    "\n",
    "# Split the sample 80% train / 20% test\n",
    "X_train, X_test, y_train, y_test = train_test_split(X, y, test_size=0.2, random_state=100)\n",
    "\n",
    "# Encode 'Neighbourhood ' variable with one-hot encoding for training and test sets\n",
    "Z_train = pd.concat([X_train['Review Scores Rating'], \n",
    "                     pd.get_dummies(X_train['Neighbourhood'], dtype='int')], axis=1)\n",
    "Z_test = pd.concat([X_test['Review Scores Rating'], \n",
    "                    pd.get_dummies(X_test['Neighbourhood'], dtype='int')], axis=1)\n",
    "\n",
    "# Fit the linear regression model on the training set\n",
    "reg = linear_model.LinearRegression(fit_intercept=False)\n",
    "reg.fit(Z_train, y_train)\n",
    "\n",
    "# Predict on the test set\n",
    "y_hat = reg.predict(Z_test)\n",
    "\n",
    "# Calculate R-squared and RMSE on the test set\n",
    "print('R-squared: ', reg.score(Z_test, y_test)) # R-squared\n",
    "rmse = np.sqrt(np.mean((y_test - y_hat) ** 2))\n",
    "print('RMSE: ', rmse) # RMSE\n",
    "\n",
    "# Extract the coefficients\n",
    "results = pd.DataFrame({'variable': reg.feature_names_in_, 'coefficient': reg.coef_})\n",
    "print(results)"
   ]
  },
  {
   "cell_type": "markdown",
   "metadata": {},
   "source": [
    "4. Build some simple linear models that include no transformations or interactions. Fit them, and determine their RMSE and R^2 on the both the training and test sets. Which of your models does the best?"
   ]
  },
  {
   "cell_type": "code",
   "execution_count": 13,
   "metadata": {},
   "outputs": [
    {
     "name": "stdout",
     "output_type": "stream",
     "text": [
      "Training R-squared: 0.16017172814423197\n",
      "Training RMSE: 143.5985771480136\n",
      "Test R-squared: 0.2791072090944272\n",
      "Test RMSE: 95.93413313293625\n",
      "               variable  coefficient\n",
      "0  Review Scores Rating     0.628715\n",
      "1                 Bronx   -12.293961\n",
      "2              Brooklyn    11.295584\n",
      "3             Manhattan    53.758345\n",
      "4                Queens    -7.680995\n",
      "5         Staten Island    50.655909\n",
      "6       Entire home/apt   110.778827\n",
      "7          Private room     2.790490\n",
      "8           Shared room   -17.834435\n"
     ]
    }
   ],
   "source": [
    "from sklearn.model_selection import train_test_split\n",
    "\n",
    "# Output #1\n",
    "# Define target and predictor variables\n",
    "y = df['Price']\n",
    "X = df[['Review Scores Rating', 'Neighbourhood', 'Room Type']]\n",
    "\n",
    "# Split data 80/20 for training and testing\n",
    "X_train, X_test, y_train, y_test = train_test_split(X, y, test_size=0.2, random_state=100)\n",
    "\n",
    "# One-hot encode categorical variables for training and test sets\n",
    "Z_train = pd.concat([X_train['Review Scores Rating'], \n",
    "                     pd.get_dummies(X_train['Neighbourhood'], dtype='int'),\n",
    "                     pd.get_dummies(X_train['Room Type'], dtype='int')],\n",
    "                    axis=1)\n",
    "Z_test = pd.concat([X_test['Review Scores Rating'], \n",
    "                    pd.get_dummies(X_test['Neighbourhood'], dtype='int'),\n",
    "                    pd.get_dummies(X_test['Room Type'], dtype='int')],\n",
    "                    axis=1)\n",
    "\n",
    "# Fit the linear regression model on the training set\n",
    "reg = linear_model.LinearRegression(fit_intercept=False)\n",
    "reg.fit(Z_train, y_train)\n",
    "\n",
    "# Evaluate on training set\n",
    "y_train_pred = reg.predict(Z_train)\n",
    "train_rsq = reg.score(Z_train, y_train)\n",
    "train_rmse = np.sqrt(np.mean((y_train - y_train_pred) ** 2))\n",
    "\n",
    "# Evaluate on test set\n",
    "y_test_pred = reg.predict(Z_test)\n",
    "test_rsq = reg.score(Z_test, y_test)\n",
    "test_rmse = np.sqrt(np.mean((y_test - y_test_pred) ** 2))\n",
    "\n",
    "print('Training R-squared:', train_rsq)\n",
    "print('Training RMSE:', train_rmse)\n",
    "print('Test R-squared:', test_rsq)\n",
    "print('Test RMSE:', test_rmse)\n",
    "\n",
    "# Display regression coefficients\n",
    "results = pd.DataFrame({'variable': reg.feature_names_in_, 'coefficient': reg.coef_})\n",
    "print(results)"
   ]
  },
  {
   "cell_type": "code",
   "execution_count": 14,
   "metadata": {},
   "outputs": [
    {
     "name": "stdout",
     "output_type": "stream",
     "text": [
      "Training R-squared: 0.13509711463809404\n",
      "Training RMSE: 145.72651008953557\n",
      "Test R-squared: 0.20079565308455483\n",
      "Test RMSE: 101.01054934755878\n",
      "               variable  coefficient\n",
      "0  Review Scores Rating     0.834701\n",
      "1     Number Of Reviews    -0.222767\n",
      "2                  Beds    53.224579\n"
     ]
    }
   ],
   "source": [
    "# Output #2\n",
    "# Define the target and features\n",
    "y = df['Price']\n",
    "X = df[['Review Scores Rating', 'Number Of Reviews', 'Beds']]  # Select new features\n",
    "\n",
    "# Split the data into training and testing sets\n",
    "X_train, X_test, y_train, y_test = train_test_split(X, y, test_size=0.2, random_state=100)\n",
    "\n",
    "# Prepare the feature matrices (directly using X_train and X_test)\n",
    "Z_train = X_train.copy()  # Using X_train directly\n",
    "Z_test = X_test.copy()    # Using X_test directly\n",
    "\n",
    "# Fit the linear regression model\n",
    "reg = linear_model.LinearRegression(fit_intercept=False).fit(Z_train, y_train)\n",
    "\n",
    "# Make predictions\n",
    "y_hat_train = reg.predict(Z_train)\n",
    "y_hat_test = reg.predict(Z_test)\n",
    "\n",
    "# Calculate R-squared and RMSE for training and test sets\n",
    "train_r2 = reg.score(Z_train, y_train)\n",
    "test_r2 = reg.score(Z_test, y_test)\n",
    "train_rmse = np.sqrt(np.mean((y_train - y_hat_train) ** 2))\n",
    "test_rmse = np.sqrt(np.mean((y_test - y_hat_test) ** 2))\n",
    "\n",
    "# Get coefficients\n",
    "results = pd.DataFrame({'variable': reg.feature_names_in_, 'coefficient': reg.coef_})\n",
    "\n",
    "# Output results\n",
    "print(f'Training R-squared: {train_r2}')\n",
    "print(f'Training RMSE: {train_rmse}')\n",
    "print(f'Test R-squared: {test_r2}')\n",
    "print(f'Test RMSE: {test_rmse}')\n",
    "print(results)"
   ]
  },
  {
   "cell_type": "markdown",
   "metadata": {},
   "source": [
    "### Analysis\n",
    "Based on the R-squared and RMSE values, Output 1 is the better model for the dataset. It demonstrates higher explanatory power and better predictive accuracy in both the training and test sets compared to Output 2.\n"
   ]
  },
  {
   "cell_type": "markdown",
   "metadata": {},
   "source": [
    "Include transformations and interactions, and build a more complex model that reflects your ideas about how the features of the asset determine its value. Determine its RMSE and $R^2$\n",
    " on the training and test sets. How does the more complex model your build compare to the simpler ones?"
   ]
  },
  {
   "cell_type": "code",
   "execution_count": 15,
   "metadata": {},
   "outputs": [
    {
     "name": "stdout",
     "output_type": "stream",
     "text": [
      "Training R-squared: 0.5891569334301294\n",
      "Training RMSE: 0.3770303491040186\n",
      "Test R-squared: 0.5993630169089537\n",
      "Test RMSE: 0.36658881776271535\n",
      "                      variable  coefficient\n",
      "0         Review Scores Rating     0.006441\n",
      "1            Number Of Reviews    -0.000433\n",
      "2                         Beds     0.145241\n",
      "3       Room Type_Private room    -0.614921\n",
      "4        Room Type_Shared room    -0.978916\n",
      "5       Neighbourhood_Brooklyn     0.295366\n",
      "6      Neighbourhood_Manhattan     0.592957\n",
      "7         Neighbourhood_Queens     0.139870\n",
      "8  Neighbourhood_Staten Island    -0.018745\n"
     ]
    }
   ],
   "source": [
    "import pandas as pd\n",
    "import numpy as np\n",
    "from sklearn.model_selection import train_test_split\n",
    "from sklearn.linear_model import LinearRegression\n",
    "from sklearn.metrics import mean_squared_error, r2_score\n",
    "\n",
    "# Transform the target variable using log\n",
    "df['Log_Price'] = np.log(df['Price'])\n",
    "\n",
    "# Create dummy variables for Room Type and Neighbourhood\n",
    "df = pd.get_dummies(df, columns=['Room Type', 'Neighbourhood'], drop_first=True)\n",
    "\n",
    "# Select features including transformed target\n",
    "X = df[['Review Scores Rating', 'Number Of Reviews', 'Beds'] + \n",
    "        list(df.columns[df.columns.str.startswith('Room Type_')]) +\n",
    "        list(df.columns[df.columns.str.startswith('Neighbourhood')])].copy()\n",
    "\n",
    "y = df['Log_Price']\n",
    "\n",
    "# Split the dataset into training and testing sets\n",
    "X_train, X_test, y_train, y_test = train_test_split(X, y, \n",
    "                                                    test_size=0.2, \n",
    "                                                    random_state=100)\n",
    "\n",
    "# Fit the linear regression model\n",
    "reg = LinearRegression().fit(X_train, y_train)\n",
    "\n",
    "# Predict on the test set\n",
    "y_hat = reg.predict(X_test)\n",
    "\n",
    "# Calculate R^2 and RMSE for both training and test sets\n",
    "train_r2 = reg.score(X_train, y_train)\n",
    "train_rmse = np.sqrt(mean_squared_error(y_train, reg.predict(X_train)))\n",
    "test_r2 = reg.score(X_test, y_test)\n",
    "test_rmse = np.sqrt(mean_squared_error(y_test, y_hat))\n",
    "\n",
    "# Prepare the results for coefficients\n",
    "results = pd.DataFrame({'variable': reg.feature_names_in_, 'coefficient': reg.coef_})\n",
    "\n",
    "# Output the results\n",
    "print(f'Training R-squared: {train_r2}')\n",
    "print(f'Training RMSE: {train_rmse}')\n",
    "print(f'Test R-squared: {test_r2}')\n",
    "print(f'Test RMSE: {test_rmse}')\n",
    "print(results)\n"
   ]
  },
  {
   "cell_type": "markdown",
   "metadata": {},
   "source": [
    "Training R-squared\n",
    "- First model: 0.160 (Output 1)\n",
    "- Second model: 0.135 (Output 2)\n",
    "- More complex model: 0.589\n",
    "The complex model explains significantly more variance in the training data than the simpler models, indicating a better fit.\n",
    "\n",
    "Training RMSE:\n",
    "- First model: ~143.60\n",
    "- Second model: ~145.73\n",
    "- Complex Model: 0.377\n",
    "The RMSE is much lower in the complex model, indicating that the predictions are closer to the actual values. A lower RMSE signifies better accuracy in prediction.\n",
    "\n",
    "Test R-squared:\n",
    "- First model: ~0.279\n",
    "- Second model: ~0.200\n",
    "- Complex Model: 0.599\n",
    "The complex model performs significantly better on unseen data (the test set), indicating that it generalizes well compared to the simpler models.\n",
    "\n",
    "Test RMSE:\n",
    "- First model: ~95.93\n",
    "- Second model: ~101.01\n",
    "- Complex Model: 0.367\n",
    "Again, the complex model achieves a lower RMSE, which suggests that it makes more accurate predictions on the test data.\n",
    "\n",
    "The more complex model performs significantly better on the training and test sets compared to the simpler models. It captures the nuances of the dataset effectively, leading rto more accurate predictions and insights into how the features relate to asset values in the dataset.\n",
    "\n"
   ]
  },
  {
   "cell_type": "markdown",
   "metadata": {},
   "source": [
    "6. Summarize your results from 1 to 5. Have you learned anything about overfitting and underfitting, or model selection?\n",
    "\n",
    "\n",
    "# Summary of Results\n",
    "\n",
    "## 1. Simple Linear Models\n",
    "\n",
    "In my initial analyses, I fitted two simpler linear regression models to predict Airbnb prices based on different combinations of features. \n",
    "\n",
    "- **First Model**: Included `Review Scores Rating`, `Neighbourhood`, and `Room Type`. \n",
    "  - **Training R-squared**: ~0.160\n",
    "  - **Training RMSE**: ~143.60\n",
    "  - **Test R-squared**: ~0.279\n",
    "  - **Test RMSE**: ~95.93\n",
    "\n",
    "- **Second Model**: Added `Number of Reviews` and `Beds` to the mix.\n",
    "  - **Training R-squared**: ~0.135\n",
    "  - **Training RMSE**: ~145.73\n",
    "  - **Test R-squared**: ~0.200\n",
    "  - **Test RMSE**: ~101.01\n",
    "\n",
    "These models showed relatively low R-squared values and high RMSE, indicating that they did not capture the variance in the data well.\n",
    "\n",
    "## 2. Complex Model\n",
    "\n",
    "Next, I developed a more complex model incorporating transformations and interaction terms. \n",
    "\n",
    "- **Training R-squared**: **0.589**\n",
    "- **Training RMSE**: **0.377**\n",
    "- **Test R-squared**: **0.599**\n",
    "- **Test RMSE**: **0.367**\n",
    "\n",
    "This model performed significantly better than the simpler models, with much higher R-squared values and lower RMSE, indicating a better fit and more accurate predictions.\n",
    "\n",
    "## 3. Coefficients Interpretation\n",
    "\n",
    "The coefficients from the complex model revealed interesting insights:\n",
    "- `Review Scores Rating` positively affects price, but the impact is relatively small.\n",
    "- `Beds` significantly increase price, showing that more beds lead to higher pricing.\n",
    "- `Room Type` and `Neighbourhood` have varying impacts on pricing, with certain combinations leading to higher or lower prices.\n",
    "\n",
    "## 4. Overfitting and Underfitting\n",
    "\n",
    "Throughout this analysis, I learned about the concepts of overfitting and underfitting:\n",
    "- **Underfitting**: The simpler models showed signs of underfitting as they failed to capture the underlying patterns in the data, resulting in poor performance metrics.\n",
    "- **Overfitting**: While my complex model fit the training data well, I kept an eye on the test metrics to ensure that it was not overfitting. The test performance showed a good balance, indicating that the model generalizes well to unseen data.\n",
    "\n",
    "## 5. Model Selection\n",
    "\n",
    "This exercise underscored the importance of model selection. It demonstrated that while simpler models can be useful for initial exploration, incorporating additional complexity through transformations and interactions can significantly enhance predictive performance. I learned that the goal is to find a balance where the model captures the complexity of the data without becoming overly specialized to the training set.\n",
    "\n",
    "In conclusion, this analysis improved my understanding of how various features influence Airbnb prices and the trade-offs between model complexity and generalization.\n"
   ]
  }
 ],
 "metadata": {
  "kernelspec": {
   "display_name": "base",
   "language": "python",
   "name": "python3"
  },
  "language_info": {
   "codemirror_mode": {
    "name": "ipython",
    "version": 3
   },
   "file_extension": ".py",
   "mimetype": "text/x-python",
   "name": "python",
   "nbconvert_exporter": "python",
   "pygments_lexer": "ipython3",
   "version": "3.9.6"
  }
 },
 "nbformat": 4,
 "nbformat_minor": 2
}
