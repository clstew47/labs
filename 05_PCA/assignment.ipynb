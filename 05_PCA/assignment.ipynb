{
 "cells": [
  {
   "cell_type": "markdown",
   "metadata": {},
   "source": [
    "## PCA and Text Analysis\n",
    "\n",
    "This assignment involves processing real e-mails, some of which are scams. Some of these scam e-mails have some offensive content. I don't think anything is worse than R-rated, but I just want to warn you that if you start reading the e-mail text, you might read something offensive. If that's a problem, feel free to e-mail me and we can talk about it more or you can skip the assignment.  "
   ]
  },
  {
   "cell_type": "markdown",
   "metadata": {},
   "source": [
    "### Q1. Read In Data"
   ]
  },
  {
   "cell_type": "code",
   "execution_count": 6,
   "metadata": {},
   "outputs": [
    {
     "data": {
      "text/plain": [
       "0    [re, :, 6, ., 1100, ,, disc, :, uniformitarian...\n",
       "1    [the, other, side, of, *, galicismos, *, *, ga...\n",
       "2    [re, :, equistar, deal, tickets, are, you, sti...\n",
       "3    [Hello, I, am, your, hot, lil, horny, toy., I,...\n",
       "4    [software, at, incredibly, low, prices, (, 86,...\n",
       "Name: Email Text, dtype: object"
      ]
     },
     "execution_count": 6,
     "metadata": {},
     "output_type": "execute_result"
    }
   ],
   "source": [
    "import pandas as pd\n",
    "import numpy as np\n",
    "import pickle\n",
    "from collections import Counter\n",
    "from multiprocessing.pool import Pool\n",
    "from sklearn.decomposition import PCA\n",
    "from sklearn.linear_model import LinearRegression\n",
    "from sklearn.model_selection import train_test_split\n",
    "from sklearn.metrics import r2_score\n",
    "import seaborn as sns\n",
    "import matplotlib.pyplot as plt\n",
    "\n",
    "df = pd.read_parquet('https://data434.s3.us-east-2.amazonaws.com/Phishing_Email.parquet')\n",
    "# raw data head\n",
    "df.head()\n",
    "\n",
    "# after splitting head\n",
    "tokens = df['Email Text'].str.split()\n",
    "tokens.head()"
   ]
  },
  {
   "cell_type": "markdown",
   "metadata": {},
   "source": [
    "First, to clean the tokens, I would convert to lowercase, remove stop words including words like \"the\" and \"is\" since those are neutral words and would not be useful in detecting phishing emails. \n",
    "Additionally, I would remove punctuation and remove special characters. \n",
    "\n",
    "Then, to represent the emails, I would use Term Frequency-Inverse Document Frequency to assign weights to tokens based on their frequency in an email compared to their overall occurrence across all emails. This would emphasize important words while reducing the impact of the common words that occur. \n",
    "\n",
    "Finally, after generating the TF-IDF matrix, PCA can be used to reduce the dimensionality, retaining only the most informative features while eliminating redundancy. The reduced feature set is then used as input for a linear model. This utilizes the flexibility linear models while efficiently handling the high dimensionality of text data.\n"
   ]
  },
  {
   "cell_type": "markdown",
   "metadata": {},
   "source": [
    "### Q2. \n",
    "\n",
    "I aggregated all the emails into a single vector, and removed the punctuation and very common words (e.g. \"the\"). Run the below code chunk to open it, and use the Counter class to look at the most common words:"
   ]
  },
  {
   "cell_type": "code",
   "execution_count": 2,
   "metadata": {},
   "outputs": [],
   "source": [
    "with open('all_tokens.pickle', 'rb') as file:\n",
    "    all_tokens = pickle.load(file)\n",
    "    \n",
    "from collections import Counter\n",
    "token_count = Counter(all_tokens)\n",
    "token_freq = token_count.most_common()"
   ]
  },
  {
   "cell_type": "markdown",
   "metadata": {},
   "source": [
    "Plot a histogram of the occurrences of tokens. What do you notice about the frequency of occurrence of different tokens? How does it look?"
   ]
  },
  {
   "cell_type": "code",
   "execution_count": 3,
   "metadata": {},
   "outputs": [
    {
     "data": {
      "text/plain": [
       "<Axes: >"
      ]
     },
     "execution_count": 3,
     "metadata": {},
     "output_type": "execute_result"
    },
    {
     "data": {
      "image/png": "[encoded data removed]",
      "text/plain": [
       "<Figure size 640x480 with 1 Axes>"
      ]
     },
     "metadata": {},
     "output_type": "display_data"
    }
   ],
   "source": [
    "# histogram of occurrences of tokens\n",
    "\n",
    "# open pickle file containing all tokens from dataset in read-binary mode\n",
    "with open('all_tokens.pickle', 'rb') as file:\n",
    "    all_tokens = pickle.load(file)\n",
    "    \n",
    "from collections import Counter\n",
    "# count freq of each unique token in 'all_tokens' list\n",
    "token_count = Counter(all_tokens)\n",
    "# these r the most common tokens and their frequencies as a list of tuples\n",
    "token_freq = token_count.most_common()\n",
    "\n",
    "# df with token frequency data\n",
    "gdf = pd.DataFrame(token_freq,columns=['token','count'])\n",
    "\n",
    "# plot histogram of occurrences of tokens\n",
    "gdf['count'].hist(grid=False,bins=100)"
   ]
  },
  {
   "cell_type": "code",
   "execution_count": 4,
   "metadata": {},
   "outputs": [
    {
     "data": {
      "text/plain": [
       "count    48691.000000\n",
       "mean         5.687889\n",
       "std         27.717476\n",
       "min          1.000000\n",
       "25%          1.000000\n",
       "50%          1.000000\n",
       "75%          2.000000\n",
       "max       1365.000000\n",
       "Name: count, dtype: float64"
      ]
     },
     "execution_count": 4,
     "metadata": {},
     "output_type": "execute_result"
    }
   ],
   "source": [
    "# describe numerical data of token frequency\n",
    "gdf['count'].describe()\n"
   ]
  },
  {
   "cell_type": "markdown",
   "metadata": {},
   "source": [
    "What I noticed from this is that most tokens appear only once. The token with the highest frequency is 1365 times. The average frequency is only 5.68 times, thus most of the tokens have lower frequencies at about 10 times. "
   ]
  },
  {
   "cell_type": "markdown",
   "metadata": {},
   "source": [
    "### Q3. \n",
    "\n",
    "Load `Phishing_clean.parquet`. This is the text from the e-mails broken into the most common 2,711 tokens and one-hot-encoded as features/covariates. So each row is an e-mail, the `Email Type` takes the value 1 if it's a scam and 0 otherwise, and every other column is a word or symbol that occurs in at least 15 e-mails.\n",
    "\n",
    "1. Perform an 80/20 train-test split of the data.\n",
    "2. Run a regression of $y$ on the one-hot-encoded emails. What is the $R^2$ on the test set? On the training set?\n",
    "3. What words have the largest coefficients in absolute value and most strongly influence predictions? "
   ]
  },
  {
   "cell_type": "code",
   "execution_count": 8,
   "metadata": {},
   "outputs": [
    {
     "name": "stdout",
     "output_type": "stream",
     "text": [
      "train:  0.6144860820476118\n",
      "test:  -0.000268384328047544\n"
     ]
    }
   ],
   "source": [
    "df = pd.read_parquet('Phishing_clean.parquet')\n",
    "\n",
    "# separate target variable (email type) from features\n",
    "y = df['Email Type']\n",
    "X = df.drop('Email Type',axis=1)\n",
    "\n",
    "## 1. split training and test sets \n",
    "# 80% -> training, 20% -> test\n",
    "X_train, X_test, y_train, y_test = train_test_split(X, y, test_size=0.2, random_state=125)\n",
    "\n",
    "## 2. train linear regression model on training data\n",
    "\n",
    "# fit linear regression model on training data\n",
    "lm_0 = LinearRegression(fit_intercept=False).fit(X_train,y_train)\n",
    "\n",
    "# use trained model to make predictions on test and training data\n",
    "y_hat_test_0 = lm_0.predict(X_test)\n",
    "y_hat_train_0 = lm_0.predict(X_train)\n",
    "\n",
    "# print r-squared scores for model on the training and test data \n",
    "# shows how well model fits with the data\n",
    "print('train: ', r2_score(y_hat_train_0,y_train) )\n",
    "print('test: ', r2_score(y_hat_test_0,y_test) )    "
   ]
  },
  {
   "cell_type": "code",
   "execution_count": 10,
   "metadata": {},
   "outputs": [
    {
     "data": {
      "text/html": [
       "<div>\n",
       "<style scoped>\n",
       "    .dataframe tbody tr th:only-of-type {\n",
       "        vertical-align: middle;\n",
       "    }\n",
       "\n",
       "    .dataframe tbody tr th {\n",
       "        vertical-align: top;\n",
       "    }\n",
       "\n",
       "    .dataframe thead th {\n",
       "        text-align: right;\n",
       "    }\n",
       "</style>\n",
       "<table border=\"1\" class=\"dataframe\">\n",
       "  <thead>\n",
       "    <tr style=\"text-align: right;\">\n",
       "      <th></th>\n",
       "      <th>variable</th>\n",
       "      <th>value</th>\n",
       "      <th>abs</th>\n",
       "    </tr>\n",
       "  </thead>\n",
       "  <tbody>\n",
       "    <tr>\n",
       "      <th>2223</th>\n",
       "      <td>1997-2002</td>\n",
       "      <td>-1.514772e+13</td>\n",
       "      <td>1.514772e+13</td>\n",
       "    </tr>\n",
       "    <tr>\n",
       "      <th>2224</th>\n",
       "      <td>pudge.</td>\n",
       "      <td>1.514772e+13</td>\n",
       "      <td>1.514772e+13</td>\n",
       "    </tr>\n",
       "    <tr>\n",
       "      <th>6</th>\n",
       "      <td>2002</td>\n",
       "      <td>1.448712e+13</td>\n",
       "      <td>1.448712e+13</td>\n",
       "    </tr>\n",
       "    <tr>\n",
       "      <th>96</th>\n",
       "      <td>000</td>\n",
       "      <td>-1.151892e+13</td>\n",
       "      <td>1.151892e+13</td>\n",
       "    </tr>\n",
       "    <tr>\n",
       "      <th>340</th>\n",
       "      <td>2005</td>\n",
       "      <td>-9.766916e+12</td>\n",
       "      <td>9.766916e+12</td>\n",
       "    </tr>\n",
       "    <tr>\n",
       "      <th>...</th>\n",
       "      <td>...</td>\n",
       "      <td>...</td>\n",
       "      <td>...</td>\n",
       "    </tr>\n",
       "    <tr>\n",
       "      <th>1052</th>\n",
       "      <td>soon</td>\n",
       "      <td>-1.974106e-04</td>\n",
       "      <td>1.974106e-04</td>\n",
       "    </tr>\n",
       "    <tr>\n",
       "      <th>319</th>\n",
       "      <td>thing</td>\n",
       "      <td>1.831055e-04</td>\n",
       "      <td>1.831055e-04</td>\n",
       "    </tr>\n",
       "    <tr>\n",
       "      <th>254</th>\n",
       "      <td>say</td>\n",
       "      <td>-1.220703e-04</td>\n",
       "      <td>1.220703e-04</td>\n",
       "    </tr>\n",
       "    <tr>\n",
       "      <th>512</th>\n",
       "      <td>science</td>\n",
       "      <td>-6.866455e-05</td>\n",
       "      <td>6.866455e-05</td>\n",
       "    </tr>\n",
       "    <tr>\n",
       "      <th>989</th>\n",
       "      <td>greg</td>\n",
       "      <td>2.288818e-05</td>\n",
       "      <td>2.288818e-05</td>\n",
       "    </tr>\n",
       "  </tbody>\n",
       "</table>\n",
       "<p>2711 rows × 3 columns</p>\n",
       "</div>"
      ],
      "text/plain": [
       "       variable         value           abs\n",
       "2223  1997-2002 -1.514772e+13  1.514772e+13\n",
       "2224     pudge.  1.514772e+13  1.514772e+13\n",
       "6          2002  1.448712e+13  1.448712e+13\n",
       "96          000 -1.151892e+13  1.151892e+13\n",
       "340        2005 -9.766916e+12  9.766916e+12\n",
       "...         ...           ...           ...\n",
       "1052       soon -1.974106e-04  1.974106e-04\n",
       "319       thing  1.831055e-04  1.831055e-04\n",
       "254         say -1.220703e-04  1.220703e-04\n",
       "512     science -6.866455e-05  6.866455e-05\n",
       "989        greg  2.288818e-05  2.288818e-05\n",
       "\n",
       "[2711 rows x 3 columns]"
      ]
     },
     "execution_count": 10,
     "metadata": {},
     "output_type": "execute_result"
    }
   ],
   "source": [
    "## 3. \n",
    "\n",
    "# create df to store the variable names and their coefficient vals from trained model  \n",
    "rdf = pd.DataFrame({'variable':lm_0.feature_names_in_ , 'value':lm_0.coef_})\n",
    "\n",
    "# stores absolute value of coefficient\n",
    "rdf['abs'] = np.abs(rdf['value'])\n",
    "# sort by abs col in descending order to highlight important variables\n",
    "rdf.sort_values('abs',ascending=False)\n"
   ]
  },
  {
   "cell_type": "markdown",
   "metadata": {},
   "source": [
    "The words with the largest coefficients in absolute value that most strongly influence the predictions are: \n",
    "- 1997-2002\n",
    "- pudge.\n",
    "- 2002\n",
    "- 000\n",
    "- 2005\n",
    "\n",
    "These are the variables with the large absolute coefficients, meaning that they have a significant influence on whether an email is detected as phishing or not. The positive or negative sign of the coefficients indicates whether the presence of these tokens increases or decreases the likelihood of an email being classified as phishing. \n",
    "\n",
    "In particular, 1997-2002 and 000 have negative coefficients, indicating that they may decrease the likelihood of the email being classified as phishing. However, pudge. and 2005 have large positive coefficients, indicating that they may increase the likelihood of the email being classified as phishing. \n",
    "\n",
    "These findings indicate some unusual and potentially noisy tokens that might not necessary be meaningful in a real-world context but strongly correlated with phishing emails in the data. Thus, it's important to investigate these tokens are valid signals or if they represent noise."
   ]
  },
  {
   "cell_type": "markdown",
   "metadata": {},
   "source": [
    "### Q4. \n",
    "\n",
    "Take the matrix of one-hot-encoded tokens (the data, less the outcome variable, `Email Type`) and perform a principal components analysis decomposition with two components. Plot the first two principal components in a scatter plot, and hue the points by whether they are a phishing scam or not. Do you notice any patterns?"
   ]
  },
  {
   "cell_type": "markdown",
   "metadata": {},
   "source": [
    "### Q5.\n",
    "\n",
    "Run a linear regression of $y$ on the first 2,610 principal components of $X$. What is the $R^2$ on the training and test sets? (I used cross validation to determine that 2,610 was approximately optimal, but not all 2,711 components.)\n",
    "\n",
    "How does this performance compare to the linear regression?"
   ]
  },
  {
   "cell_type": "markdown",
   "metadata": {},
   "source": [
    "### Q6.\n",
    "\n",
    "Explain briefly in your own words what the advantage is in using the principal components to run this high-dimensional regression, rather than the original data."
   ]
  }
 ],
 "metadata": {
  "kernelspec": {
   "display_name": ".txt",
   "language": "python",
   "name": "python3"
  },
  "language_info": {
   "codemirror_mode": {
    "name": "ipython",
    "version": 3
   },
   "file_extension": ".py",
   "mimetype": "text/x-python",
   "name": "python",
   "nbconvert_exporter": "python",
   "pygments_lexer": "ipython3",
   "version": "3.9.6"
  }
 },
 "nbformat": 4,
 "nbformat_minor": 2
}
