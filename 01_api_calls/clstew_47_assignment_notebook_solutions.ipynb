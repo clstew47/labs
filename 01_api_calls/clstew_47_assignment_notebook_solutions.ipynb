{
  "cells": [
    {
      "cell_type": "markdown",
      "metadata": {
        "id": "Yi7xzykjgGP9"
      },
      "source": [
        "## Lab 1: Getting data from API's"
      ]
    },
    {
      "cell_type": "markdown",
      "metadata": {
        "id": "Ko09F0g3gGP-"
      },
      "source": [
        "**1. Practice writing queries using the saferproducts.gov API and your web browser.**\n",
        "\n",
        "*   \"https://www.saferproducts.gov/RestWebServices/Recall?format=json&RecallID=7856\"\n",
        "  *   returns the recall information specifically for Recall ID 7856.\n",
        "\n",
        "*   https://www.saferproducts.gov/RestWebServices/Recall?format=json&ProductType=Phone&RecallDateStart=2016-01-01&RecallDateEnd=2016-12-31\n",
        "  *   to get all phone recalls between January 1, 2016, and December 31, 2016\n",
        "\n",
        "\n",
        "* https://www.saferproducts.gov/RestWebServices/Recall?format=json&Hazard=Fire\n",
        "  * Recalls related to specific hazard Fire\n",
        "\n",
        "* https://www.saferproducts.gov/RestWebServices/Recall?format=json&ManufacturerCountry=China\n",
        "  * Recalls for products manufactured in China\n",
        "\n",
        "* https://www.saferproducts.gov/RestWebServices/Recall?format=json&Injury=overheating\n",
        "  * Where injury = overheating\n",
        "\n",
        "* https://www.saferproducts.gov/RestWebServices/Recall?format=json&Remedy=Replace\n",
        "  * Where remedy for product is to replace\n",
        "\n",
        "* https://www.saferproducts.gov/RestWebServices/Recall?format=json&Description=Charger\n",
        "  * Recalls by product description that mentions charger\n",
        "\n",
        "\n"
      ]
    },
    {
      "cell_type": "markdown",
      "metadata": {
        "id": "8Zwfi6ndgGP-"
      },
      "source": [
        "\n",
        "**2. Practice with the saferproducts.gov API and the above code in a notebook to see how API's work, in general.**"
      ]
    },
    {
      "cell_type": "code",
      "source": [
        "import urllib.request\n",
        "import json\n",
        "url = 'https://www.saferproducts.gov/RestWebServices/' # Location of the API\n",
        "query = 'Recall?format=json&Injury=Overheating' # The query\n",
        "response = urllib.request.urlopen(url+query)\n",
        "response_bytes = response.read()\n",
        "data = json.loads(response_bytes) # Convert response to json\n",
        "response.close()\n",
        "\n",
        "import pickle\n",
        "with open('data.pkl', 'wb') as f:\n",
        "    pickle.dump(data, f)\n",
        "\n",
        "# print(data)\n",
        "\n",
        "url = 'https://www.saferproducts.gov/RestWebServices/' # Location of the API\n",
        "query = 'Recall?format=json&ProductType=Exercise' # The query\n",
        "response = urllib.request.urlopen(url+query)\n",
        "response_bytes = response.read()\n",
        "data = json.loads(response_bytes) # Convert response to json\n",
        "response.close()\n",
        "\n",
        "# print(data)\n",
        "import pickle\n",
        "with open('data.pkl', 'wb') as f:\n",
        "    pickle.dump(data, f)\n",
        "\n",
        "\n"
      ],
      "metadata": {
        "id": "20HVX1IjHmyq"
      },
      "execution_count": 1,
      "outputs": []
    },
    {
      "cell_type": "markdown",
      "source": [
        "\n",
        "\n"
      ],
      "metadata": {
        "id": "n2C8MSWnFmq4"
      }
    },
    {
      "cell_type": "markdown",
      "metadata": {
        "id": "CWk9ceyRgGP_"
      },
      "source": [
        "**3. Convert this code chunk into a function you can reuse to flatten dictionaries, or explain clearly the problems you run into while attempting to do so. Make some tables or plots.**\n",
        "\n",
        "\n"
      ]
    },
    {
      "cell_type": "code",
      "source": [
        "import pandas as pd\n",
        "\n",
        "df = pd.DataFrame.from_dict(data)\n",
        "print(df['RemedyOptions'].value_counts())\n",
        "\n",
        "def flatten_dictionary_column(df, column_name):\n",
        "  clean_values = []\n",
        "\n",
        "  for i in range(len(df[column_name])):\n",
        "    if len(df[column_name][i])>0:\n",
        "      values = []\n",
        "      for j in range(len(df[column_name][i])):\n",
        "        values.append(df[column_name][i][j]['Option'] )\n",
        "      clean_values.append(','.join(values))\n",
        "    else:\n",
        "      clean_values.append('')\n",
        "  df[f'flattened_{column_name}'] = clean_values\n",
        "  return df\n",
        "\n",
        "print(df.shape)\n",
        "print(df.head())\n",
        "print(df.columns)\n",
        "\n"
      ],
      "metadata": {
        "id": "EPQ2Zk3WIU1Y",
        "colab": {
          "base_uri": "https://localhost:8080/"
        },
        "outputId": "c4be7f12-4b18-4e1e-c5c7-91ac06712668"
      },
      "execution_count": 6,
      "outputs": [
        {
          "output_type": "stream",
          "name": "stdout",
          "text": [
            "RemedyOptions\n",
            "[]                                                        66\n",
            "[{'Option': 'Repair'}]                                     9\n",
            "[{'Option': 'Replace'}]                                    8\n",
            "[{'Option': 'Refund'}]                                     5\n",
            "[{'Option': 'Replace'}, {'Option': 'Refund'}]              1\n",
            "[{'Option': 'Refund'}, {'Option': 'Repair'}]               1\n",
            "[{'Option': 'New Instructions'}, {'Option': 'Repair'}]     1\n",
            "Name: count, dtype: int64\n",
            "(91, 22)\n",
            "   RecallID RecallNumber           RecallDate  \\\n",
            "0      7832        16247  2016-08-23T00:00:00   \n",
            "1      6724        16742  2016-05-10T00:00:00   \n",
            "2      6488        15749  2015-08-25T00:00:00   \n",
            "3      6420        15735  2015-06-16T00:00:00   \n",
            "4      6398        15140  2015-05-20T00:00:00   \n",
            "\n",
            "                                         Description  \\\n",
            "0  This recall involves \"Step-iT\" activity wristb...   \n",
            "1  This recall involves the Olympic Decline free ...   \n",
            "2  This recall involves four models of exercise m...   \n",
            "3  This recall involves the Rogue Fitness Mobilit...   \n",
            "4  This recall involves Valor Fitness BF-38 Flat/...   \n",
            "\n",
            "                                                 URL  \\\n",
            "0  https://www.cpsc.gov/Recalls/2016/McDonalds-Re...   \n",
            "1  https://www.cpsc.gov/Recalls/2016/Cybex-Intern...   \n",
            "2  https://www.cpsc.gov/Recalls/2015/Cybex-Intern...   \n",
            "3  https://www.cpsc.gov/Recalls/2015/Coulter-Vent...   \n",
            "4  https://www.cpsc.gov/Recalls/2015/Valor-Athlet...   \n",
            "\n",
            "                                               Title  \\\n",
            "0  McDonald’s Recalls “Step-iT” Activity Wristban...   \n",
            "1  Cybex International Recalls Decline Free Weigh...   \n",
            "2  Cybex International Recalls Arm Curl Machines ...   \n",
            "3  Coulter Ventures Recalls MobilityWOD Door Anch...   \n",
            "4  Valor Athletics Recalls Olympic Weight Bench d...   \n",
            "\n",
            "                                     ConsumerContact      LastPublishDate  \\\n",
            "0  McDonald's at 800-244-6227 from 7 a.m. to 7 p....  2016-08-23T00:00:00   \n",
            "1  Cybex toll-free at 888-462-9239 from 8 a.m. to...  2016-05-10T00:00:00   \n",
            "2  Cybex International toll-free at 888-678-3846 ...  2015-08-25T00:00:00   \n",
            "3  Coulter toll-free at (844) 216-3846 from 9 a.m...  2015-06-16T00:00:00   \n",
            "4  Valor Fitness toll-free at (844) 277-1641 Mond...  2015-05-20T00:00:00   \n",
            "\n",
            "                                            Products  \\\n",
            "0  [{'Name': 'Step-iT Activity Wristbands', 'Desc...   \n",
            "1  [{'Name': 'Decline free weight benches', 'Desc...   \n",
            "2  [{'Name': 'Arm Curl Machines', 'Description': ...   \n",
            "3  [{'Name': 'MobilityWOD Door Anchor', 'Descript...   \n",
            "4  [{'Name': 'Weight bench', 'Description': '', '...   \n",
            "\n",
            "                                      Inconjunctions  ...  \\\n",
            "0  [{'URL': 'http://healthycanadians.gc.ca/recall...  ...   \n",
            "1                                                 []  ...   \n",
            "2                                                 []  ...   \n",
            "3                                                 []  ...   \n",
            "4                                                 []  ...   \n",
            "\n",
            "                                       Manufacturers  \\\n",
            "0                                                 []   \n",
            "1  [{'Name': 'Cybex International, Inc. of Medway...   \n",
            "2  [{'Name': 'Cybex International, Inc., of Medwa...   \n",
            "3                                                 []   \n",
            "4                                                 []   \n",
            "\n",
            "                                           Retailers  \\\n",
            "0  [{'Name': 'Distributed exclusively by McDonald...   \n",
            "1  [{'Name': 'Cybex direct sales force or its dis...   \n",
            "2  [{'Name': 'Cybex or its distributors directly ...   \n",
            "3  [{'Name': 'Rogue Fitness websites: www.roguefi...   \n",
            "4  [{'Name': 'Valorathleticsinc.com and Valorfitn...   \n",
            "\n",
            "                                           Importers  \\\n",
            "0                                                 []   \n",
            "1                                                 []   \n",
            "2                                                 []   \n",
            "3                                                 []   \n",
            "4  [{'Name': 'Valor Athletics Inc., of St. Peters...   \n",
            "\n",
            "                                        Distributors SoldAtLabel  \\\n",
            "0  [{'Name': 'McDonald's Corp., of Oakbrook, Ill....        None   \n",
            "1                                                 []        None   \n",
            "2                                                 []        None   \n",
            "3  [{'Name': 'Coulter Ventures LLC, dba Rogue Fit...        None   \n",
            "4                                                 []        None   \n",
            "\n",
            "            ManufacturerCountries ProductUPCs  \\\n",
            "0          [{'Country': 'China'}]          []   \n",
            "1  [{'Country': 'United States'}]          []   \n",
            "2  [{'Country': 'United States'}]          []   \n",
            "3          [{'Country': 'China'}]          []   \n",
            "4          [{'Country': 'China'}]          []   \n",
            "\n",
            "                                             Hazards  \\\n",
            "0  [{'Name': 'The recalled wristbands can cause s...   \n",
            "1  [{'Name': 'The frame on the bench can collapse...   \n",
            "2  [{'Name': 'The swivel handles can break off fr...   \n",
            "3  [{'Name': 'The nylon strap can pull out from t...   \n",
            "4  [{'Name': 'The weld joining the front leg to t...   \n",
            "\n",
            "                                            Remedies            RemedyOptions  \n",
            "0  [{'Name': 'Consumers should immediately take t...  [{'Option': 'Replace'}]  \n",
            "1  [{'Name': 'Consumers should immediately stop u...  [{'Option': 'Replace'}]  \n",
            "2  [{'Name': 'Consumers should immediately stop u...   [{'Option': 'Repair'}]  \n",
            "3  [{'Name': 'Consumers should immediately stop u...   [{'Option': 'Refund'}]  \n",
            "4  [{'Name': 'Consumers should immediately stop u...   [{'Option': 'Repair'}]  \n",
            "\n",
            "[5 rows x 22 columns]\n",
            "Index(['RecallID', 'RecallNumber', 'RecallDate', 'Description', 'URL', 'Title',\n",
            "       'ConsumerContact', 'LastPublishDate', 'Products', 'Inconjunctions',\n",
            "       'Images', 'Injuries', 'Manufacturers', 'Retailers', 'Importers',\n",
            "       'Distributors', 'SoldAtLabel', 'ManufacturerCountries', 'ProductUPCs',\n",
            "       'Hazards', 'Remedies', 'RemedyOptions'],\n",
            "      dtype='object')\n"
          ]
        }
      ]
    },
    {
      "cell_type": "code",
      "source": [
        "import matplotlib.pyplot as plt\n",
        "\n",
        "# Flatten all remedy options into a single list\n",
        "\n",
        "df = flatten_dictionary_column(df, 'RemedyOptions')\n",
        "\n",
        "print(df.shape)\n",
        "print(df.head())\n",
        "all_remedies = [item for sublist in df['flattened_RemedyOptions'].str.split(', ') for item in sublist if item]\n",
        "print(all_remedies)\n",
        "\n",
        "# Create a bar plot representing frequency of remedy options\n",
        "plt.figure(figsize=(8, 6))\n",
        "pd.Series(all_remedies).value_counts().plot(kind='bar', color='pink')\n",
        "plt.title('Frequency of Remedy Options')\n",
        "plt.xlabel('Remedy Option')\n",
        "plt.ylabel('Frequency')\n",
        "plt.show()"
      ],
      "metadata": {
        "colab": {
          "base_uri": "https://localhost:8080/",
          "height": 1000
        },
        "id": "DwHRnbU0I11X",
        "outputId": "4f10352f-e6d7-411e-f2c3-84759e4f1f7a"
      },
      "execution_count": 7,
      "outputs": [
        {
          "output_type": "stream",
          "name": "stdout",
          "text": [
            "(91, 23)\n",
            "   RecallID RecallNumber           RecallDate  \\\n",
            "0      7832        16247  2016-08-23T00:00:00   \n",
            "1      6724        16742  2016-05-10T00:00:00   \n",
            "2      6488        15749  2015-08-25T00:00:00   \n",
            "3      6420        15735  2015-06-16T00:00:00   \n",
            "4      6398        15140  2015-05-20T00:00:00   \n",
            "\n",
            "                                         Description  \\\n",
            "0  This recall involves \"Step-iT\" activity wristb...   \n",
            "1  This recall involves the Olympic Decline free ...   \n",
            "2  This recall involves four models of exercise m...   \n",
            "3  This recall involves the Rogue Fitness Mobilit...   \n",
            "4  This recall involves Valor Fitness BF-38 Flat/...   \n",
            "\n",
            "                                                 URL  \\\n",
            "0  https://www.cpsc.gov/Recalls/2016/McDonalds-Re...   \n",
            "1  https://www.cpsc.gov/Recalls/2016/Cybex-Intern...   \n",
            "2  https://www.cpsc.gov/Recalls/2015/Cybex-Intern...   \n",
            "3  https://www.cpsc.gov/Recalls/2015/Coulter-Vent...   \n",
            "4  https://www.cpsc.gov/Recalls/2015/Valor-Athlet...   \n",
            "\n",
            "                                               Title  \\\n",
            "0  McDonald’s Recalls “Step-iT” Activity Wristban...   \n",
            "1  Cybex International Recalls Decline Free Weigh...   \n",
            "2  Cybex International Recalls Arm Curl Machines ...   \n",
            "3  Coulter Ventures Recalls MobilityWOD Door Anch...   \n",
            "4  Valor Athletics Recalls Olympic Weight Bench d...   \n",
            "\n",
            "                                     ConsumerContact      LastPublishDate  \\\n",
            "0  McDonald's at 800-244-6227 from 7 a.m. to 7 p....  2016-08-23T00:00:00   \n",
            "1  Cybex toll-free at 888-462-9239 from 8 a.m. to...  2016-05-10T00:00:00   \n",
            "2  Cybex International toll-free at 888-678-3846 ...  2015-08-25T00:00:00   \n",
            "3  Coulter toll-free at (844) 216-3846 from 9 a.m...  2015-06-16T00:00:00   \n",
            "4  Valor Fitness toll-free at (844) 277-1641 Mond...  2015-05-20T00:00:00   \n",
            "\n",
            "                                            Products  \\\n",
            "0  [{'Name': 'Step-iT Activity Wristbands', 'Desc...   \n",
            "1  [{'Name': 'Decline free weight benches', 'Desc...   \n",
            "2  [{'Name': 'Arm Curl Machines', 'Description': ...   \n",
            "3  [{'Name': 'MobilityWOD Door Anchor', 'Descript...   \n",
            "4  [{'Name': 'Weight bench', 'Description': '', '...   \n",
            "\n",
            "                                      Inconjunctions  ...  \\\n",
            "0  [{'URL': 'http://healthycanadians.gc.ca/recall...  ...   \n",
            "1                                                 []  ...   \n",
            "2                                                 []  ...   \n",
            "3                                                 []  ...   \n",
            "4                                                 []  ...   \n",
            "\n",
            "                                           Retailers  \\\n",
            "0  [{'Name': 'Distributed exclusively by McDonald...   \n",
            "1  [{'Name': 'Cybex direct sales force or its dis...   \n",
            "2  [{'Name': 'Cybex or its distributors directly ...   \n",
            "3  [{'Name': 'Rogue Fitness websites: www.roguefi...   \n",
            "4  [{'Name': 'Valorathleticsinc.com and Valorfitn...   \n",
            "\n",
            "                                           Importers  \\\n",
            "0                                                 []   \n",
            "1                                                 []   \n",
            "2                                                 []   \n",
            "3                                                 []   \n",
            "4  [{'Name': 'Valor Athletics Inc., of St. Peters...   \n",
            "\n",
            "                                        Distributors SoldAtLabel  \\\n",
            "0  [{'Name': 'McDonald's Corp., of Oakbrook, Ill....        None   \n",
            "1                                                 []        None   \n",
            "2                                                 []        None   \n",
            "3  [{'Name': 'Coulter Ventures LLC, dba Rogue Fit...        None   \n",
            "4                                                 []        None   \n",
            "\n",
            "            ManufacturerCountries ProductUPCs  \\\n",
            "0          [{'Country': 'China'}]          []   \n",
            "1  [{'Country': 'United States'}]          []   \n",
            "2  [{'Country': 'United States'}]          []   \n",
            "3          [{'Country': 'China'}]          []   \n",
            "4          [{'Country': 'China'}]          []   \n",
            "\n",
            "                                             Hazards  \\\n",
            "0  [{'Name': 'The recalled wristbands can cause s...   \n",
            "1  [{'Name': 'The frame on the bench can collapse...   \n",
            "2  [{'Name': 'The swivel handles can break off fr...   \n",
            "3  [{'Name': 'The nylon strap can pull out from t...   \n",
            "4  [{'Name': 'The weld joining the front leg to t...   \n",
            "\n",
            "                                            Remedies            RemedyOptions  \\\n",
            "0  [{'Name': 'Consumers should immediately take t...  [{'Option': 'Replace'}]   \n",
            "1  [{'Name': 'Consumers should immediately stop u...  [{'Option': 'Replace'}]   \n",
            "2  [{'Name': 'Consumers should immediately stop u...   [{'Option': 'Repair'}]   \n",
            "3  [{'Name': 'Consumers should immediately stop u...   [{'Option': 'Refund'}]   \n",
            "4  [{'Name': 'Consumers should immediately stop u...   [{'Option': 'Repair'}]   \n",
            "\n",
            "  flattened_RemedyOptions  \n",
            "0                 Replace  \n",
            "1                 Replace  \n",
            "2                  Repair  \n",
            "3                  Refund  \n",
            "4                  Repair  \n",
            "\n",
            "[5 rows x 23 columns]\n",
            "['Replace', 'Replace', 'Repair', 'Refund', 'Repair', 'Repair', 'Replace', 'Refund', 'Replace', 'Repair', 'Refund', 'Refund', 'Replace', 'Repair', 'Repair', 'Repair', 'Replace,Refund', 'Refund,Repair', 'Repair', 'Replace', 'Repair', 'New Instructions,Repair', 'Replace', 'Refund', 'Replace']\n"
          ]
        },
        {
          "output_type": "display_data",
          "data": {
            "text/plain": [
              "<Figure size 800x600 with 1 Axes>"
            ],
            "image/png": "[encoded data removed]"
          },
          "metadata": {}
        }
      ]
    },
    {
      "cell_type": "code",
      "source": [
        "# Create a frequency table\n",
        "frequency_table = pd.Series(all_remedies).value_counts().reset_index()\n",
        "frequency_table.columns = ['Remedy Option', 'Count']\n",
        "\n",
        "# Add a percentage column\n",
        "total_remedies = frequency_table['Count'].sum()\n",
        "frequency_table['Percentage'] = (frequency_table['Count'] / total_remedies) * 100\n",
        "\n",
        "# Display\n",
        "print(frequency_table)"
      ],
      "metadata": {
        "colab": {
          "base_uri": "https://localhost:8080/"
        },
        "id": "aZg5Ck24KRp_",
        "outputId": "3f93d6b4-31e6-4ea6-bf4c-d39dea8d65dc"
      },
      "execution_count": null,
      "outputs": [
        {
          "output_type": "stream",
          "name": "stdout",
          "text": [
            "             Remedy Option  Count  Percentage\n",
            "0                   Repair      9        36.0\n",
            "1                  Replace      8        32.0\n",
            "2                   Refund      5        20.0\n",
            "3           Replace,Refund      1         4.0\n",
            "4            Refund,Repair      1         4.0\n",
            "5  New Instructions,Repair      1         4.0\n"
          ]
        }
      ]
    },
    {
      "cell_type": "markdown",
      "metadata": {
        "id": "glTQ8P7ggGP_"
      },
      "source": [
        "\n",
        "**4. Produce your own table or plot, and output it to streamlit.**"
      ]
    },
    {
      "cell_type": "code",
      "source": [
        "!pip install streamlit"
      ],
      "metadata": {
        "colab": {
          "base_uri": "https://localhost:8080/"
        },
        "id": "plwnGk09LE3n",
        "outputId": "6cbdaca5-1be7-4616-8860-1295d98a0687"
      },
      "execution_count": null,
      "outputs": [
        {
          "output_type": "stream",
          "name": "stdout",
          "text": [
            "Collecting streamlit\n",
            "  Downloading streamlit-1.38.0-py2.py3-none-any.whl.metadata (8.5 kB)\n",
            "Requirement already satisfied: altair<6,>=4.0 in /usr/local/lib/python3.10/dist-packages (from streamlit) (4.2.2)\n",
            "Requirement already satisfied: blinker<2,>=1.0.0 in /usr/lib/python3/dist-packages (from streamlit) (1.4)\n",
            "Requirement already satisfied: cachetools<6,>=4.0 in /usr/local/lib/python3.10/dist-packages (from streamlit) (5.5.0)\n",
            "Requirement already satisfied: click<9,>=7.0 in /usr/local/lib/python3.10/dist-packages (from streamlit) (8.1.7)\n",
            "Requirement already satisfied: numpy<3,>=1.20 in /usr/local/lib/python3.10/dist-packages (from streamlit) (1.26.4)\n",
            "Requirement already satisfied: packaging<25,>=20 in /usr/local/lib/python3.10/dist-packages (from streamlit) (24.1)\n",
            "Requirement already satisfied: pandas<3,>=1.3.0 in /usr/local/lib/python3.10/dist-packages (from streamlit) (2.1.4)\n",
            "Requirement already satisfied: pillow<11,>=7.1.0 in /usr/local/lib/python3.10/dist-packages (from streamlit) (10.4.0)\n",
            "Requirement already satisfied: protobuf<6,>=3.20 in /usr/local/lib/python3.10/dist-packages (from streamlit) (3.20.3)\n",
            "Requirement already satisfied: pyarrow>=7.0 in /usr/local/lib/python3.10/dist-packages (from streamlit) (14.0.2)\n",
            "Requirement already satisfied: requests<3,>=2.27 in /usr/local/lib/python3.10/dist-packages (from streamlit) (2.32.3)\n",
            "Requirement already satisfied: rich<14,>=10.14.0 in /usr/local/lib/python3.10/dist-packages (from streamlit) (13.8.1)\n",
            "Collecting tenacity<9,>=8.1.0 (from streamlit)\n",
            "  Downloading tenacity-8.5.0-py3-none-any.whl.metadata (1.2 kB)\n",
            "Requirement already satisfied: toml<2,>=0.10.1 in /usr/local/lib/python3.10/dist-packages (from streamlit) (0.10.2)\n",
            "Requirement already satisfied: typing-extensions<5,>=4.3.0 in /usr/local/lib/python3.10/dist-packages (from streamlit) (4.12.2)\n",
            "Collecting gitpython!=3.1.19,<4,>=3.0.7 (from streamlit)\n",
            "  Downloading GitPython-3.1.43-py3-none-any.whl.metadata (13 kB)\n",
            "Collecting pydeck<1,>=0.8.0b4 (from streamlit)\n",
            "  Downloading pydeck-0.9.1-py2.py3-none-any.whl.metadata (4.1 kB)\n",
            "Requirement already satisfied: tornado<7,>=6.0.3 in /usr/local/lib/python3.10/dist-packages (from streamlit) (6.3.3)\n",
            "Collecting watchdog<5,>=2.1.5 (from streamlit)\n",
            "  Downloading watchdog-4.0.2-py3-none-manylinux2014_x86_64.whl.metadata (38 kB)\n",
            "Requirement already satisfied: entrypoints in /usr/local/lib/python3.10/dist-packages (from altair<6,>=4.0->streamlit) (0.4)\n",
            "Requirement already satisfied: jinja2 in /usr/local/lib/python3.10/dist-packages (from altair<6,>=4.0->streamlit) (3.1.4)\n",
            "Requirement already satisfied: jsonschema>=3.0 in /usr/local/lib/python3.10/dist-packages (from altair<6,>=4.0->streamlit) (4.23.0)\n",
            "Requirement already satisfied: toolz in /usr/local/lib/python3.10/dist-packages (from altair<6,>=4.0->streamlit) (0.12.1)\n",
            "Collecting gitdb<5,>=4.0.1 (from gitpython!=3.1.19,<4,>=3.0.7->streamlit)\n",
            "  Downloading gitdb-4.0.11-py3-none-any.whl.metadata (1.2 kB)\n",
            "Requirement already satisfied: python-dateutil>=2.8.2 in /usr/local/lib/python3.10/dist-packages (from pandas<3,>=1.3.0->streamlit) (2.8.2)\n",
            "Requirement already satisfied: pytz>=2020.1 in /usr/local/lib/python3.10/dist-packages (from pandas<3,>=1.3.0->streamlit) (2024.2)\n",
            "Requirement already satisfied: tzdata>=2022.1 in /usr/local/lib/python3.10/dist-packages (from pandas<3,>=1.3.0->streamlit) (2024.1)\n",
            "Requirement already satisfied: charset-normalizer<4,>=2 in /usr/local/lib/python3.10/dist-packages (from requests<3,>=2.27->streamlit) (3.3.2)\n",
            "Requirement already satisfied: idna<4,>=2.5 in /usr/local/lib/python3.10/dist-packages (from requests<3,>=2.27->streamlit) (3.10)\n",
            "Requirement already satisfied: urllib3<3,>=1.21.1 in /usr/local/lib/python3.10/dist-packages (from requests<3,>=2.27->streamlit) (2.0.7)\n",
            "Requirement already satisfied: certifi>=2017.4.17 in /usr/local/lib/python3.10/dist-packages (from requests<3,>=2.27->streamlit) (2024.8.30)\n",
            "Requirement already satisfied: markdown-it-py>=2.2.0 in /usr/local/lib/python3.10/dist-packages (from rich<14,>=10.14.0->streamlit) (3.0.0)\n",
            "Requirement already satisfied: pygments<3.0.0,>=2.13.0 in /usr/local/lib/python3.10/dist-packages (from rich<14,>=10.14.0->streamlit) (2.18.0)\n",
            "Collecting smmap<6,>=3.0.1 (from gitdb<5,>=4.0.1->gitpython!=3.1.19,<4,>=3.0.7->streamlit)\n",
            "  Downloading smmap-5.0.1-py3-none-any.whl.metadata (4.3 kB)\n",
            "Requirement already satisfied: MarkupSafe>=2.0 in /usr/local/lib/python3.10/dist-packages (from jinja2->altair<6,>=4.0->streamlit) (2.1.5)\n",
            "Requirement already satisfied: attrs>=22.2.0 in /usr/local/lib/python3.10/dist-packages (from jsonschema>=3.0->altair<6,>=4.0->streamlit) (24.2.0)\n",
            "Requirement already satisfied: jsonschema-specifications>=2023.03.6 in /usr/local/lib/python3.10/dist-packages (from jsonschema>=3.0->altair<6,>=4.0->streamlit) (2023.12.1)\n",
            "Requirement already satisfied: referencing>=0.28.4 in /usr/local/lib/python3.10/dist-packages (from jsonschema>=3.0->altair<6,>=4.0->streamlit) (0.35.1)\n",
            "Requirement already satisfied: rpds-py>=0.7.1 in /usr/local/lib/python3.10/dist-packages (from jsonschema>=3.0->altair<6,>=4.0->streamlit) (0.20.0)\n",
            "Requirement already satisfied: mdurl~=0.1 in /usr/local/lib/python3.10/dist-packages (from markdown-it-py>=2.2.0->rich<14,>=10.14.0->streamlit) (0.1.2)\n",
            "Requirement already satisfied: six>=1.5 in /usr/local/lib/python3.10/dist-packages (from python-dateutil>=2.8.2->pandas<3,>=1.3.0->streamlit) (1.16.0)\n",
            "Downloading streamlit-1.38.0-py2.py3-none-any.whl (8.7 MB)\n",
            "\u001b[2K   \u001b[90m━━━━━━━━━━━━━━━━━━━━━━━━━━━━━━━━━━━━━━━━\u001b[0m \u001b[32m8.7/8.7 MB\u001b[0m \u001b[31m27.9 MB/s\u001b[0m eta \u001b[36m0:00:00\u001b[0m\n",
            "\u001b[?25hDownloading GitPython-3.1.43-py3-none-any.whl (207 kB)\n",
            "\u001b[2K   \u001b[90m━━━━━━━━━━━━━━━━━━━━━━━━━━━━━━━━━━━━━━━━\u001b[0m \u001b[32m207.3/207.3 kB\u001b[0m \u001b[31m12.0 MB/s\u001b[0m eta \u001b[36m0:00:00\u001b[0m\n",
            "\u001b[?25hDownloading pydeck-0.9.1-py2.py3-none-any.whl (6.9 MB)\n",
            "\u001b[2K   \u001b[90m━━━━━━━━━━━━━━━━━━━━━━━━━━━━━━━━━━━━━━━━\u001b[0m \u001b[32m6.9/6.9 MB\u001b[0m \u001b[31m46.6 MB/s\u001b[0m eta \u001b[36m0:00:00\u001b[0m\n",
            "\u001b[?25hDownloading tenacity-8.5.0-py3-none-any.whl (28 kB)\n",
            "Downloading watchdog-4.0.2-py3-none-manylinux2014_x86_64.whl (82 kB)\n",
            "\u001b[2K   \u001b[90m━━━━━━━━━━━━━━━━━━━━━━━━━━━━━━━━━━━━━━━━\u001b[0m \u001b[32m82.9/82.9 kB\u001b[0m \u001b[31m5.0 MB/s\u001b[0m eta \u001b[36m0:00:00\u001b[0m\n",
            "\u001b[?25hDownloading gitdb-4.0.11-py3-none-any.whl (62 kB)\n",
            "\u001b[2K   \u001b[90m━━━━━━━━━━━━━━━━━━━━━━━━━━━━━━━━━━━━━━━━\u001b[0m \u001b[32m62.7/62.7 kB\u001b[0m \u001b[31m3.4 MB/s\u001b[0m eta \u001b[36m0:00:00\u001b[0m\n",
            "\u001b[?25hDownloading smmap-5.0.1-py3-none-any.whl (24 kB)\n",
            "Installing collected packages: watchdog, tenacity, smmap, pydeck, gitdb, gitpython, streamlit\n",
            "  Attempting uninstall: tenacity\n",
            "    Found existing installation: tenacity 9.0.0\n",
            "    Uninstalling tenacity-9.0.0:\n",
            "      Successfully uninstalled tenacity-9.0.0\n",
            "Successfully installed gitdb-4.0.11 gitpython-3.1.43 pydeck-0.9.1 smmap-5.0.1 streamlit-1.38.0 tenacity-8.5.0 watchdog-4.0.2\n"
          ]
        }
      ]
    },
    {
      "cell_type": "markdown",
      "metadata": {
        "id": "1ogbrOZYgGP_"
      },
      "source": [
        "## Other API Sources\n",
        "\n",
        "Valuable and interesting Federal API resources are listed at:\n",
        "\n",
        "    https://catalog.data.gov/dataset/?_res_format_limit=0&res_format=API\n",
        "\n",
        "and in the future will likely easily be found at \\texttt{data.gov}. Some highlights include:\n",
        "\n",
        "- CDC WONDER API for Data Query Web Service: Includes death certificates with causes since approximately the 1990's.\n",
        "- Comprehensive Housing Affordability Strategy (CHAS): Housing and Urban Development (HUD) maintains an API that provides Census data on housing problems and needs unavailable through other sources, including IPUMS.\n",
        "- Federal Election Commission API: Provides historical and up to the minute campaign finance data.\n",
        "- Toxic Release Inventory: Provided by the Environmental Protection Agency, this API documents the release and management of over 800 toxic substances, reported annually by privately owned facilities and the government.\n",
        "- Petroleum Data, Prices: Provides prices of petroleum products and crude oil at weekly, monthly, and yearly time scales.\n",
        "- Fair Market Rents Lookup tool: Fair Market Rents (FMRs) determine the value of housing vouchers for Section 8 renters. This API provides the FMR values and other measures of housing affordability.\n",
        "- Annual Economic Surveys, Business Patterns: Surveys of businesses at the zip code level, tracking economic sentiment and activity.\n",
        "- Food Access Research Atlas: Provides spatial data on food access and the availability of supermarkets within census tracts. Can be merged with census data to look at under-served populations and food deserts.\n",
        "- National Oceanographic and Atmospheric Administration: Provides API access to data on real time weather and climate change projections.\n",
        "\n",
        "Each of these API resources could either be the cornerstone of a project or a source of additional data. These data sources have a number of advantages: They're free, most of them can be accessed using the same API key, and most have similar documentation for how to write a query. This is ideal for students to iterate, experiment, and take risks, with little cost to failure.\n",
        "\n",
        "In addition to government data, many commerical apps provide API access to developers and researchers. AirBnB, Amazon, Reddit, eBay, X, and many others maintain API access to develop third-party apps. These opportunities present many advantages: The data are larger, have more variety, and there are vastly many more cases. Building a third-party app that includes analytics could easily consume an entire semester and open a variety of applications in predictive analytics, natural language processing, and generative AI (e.g. predict which reviews are fake or real for Amazon for a product group like ``women's watches', and then make recommendations for different price points). While an exciting possibility, this can also raise a lot of problems: Some API's cost money or are rate-limited depending on a subscription, and others impose significant constraints on how the data can be used. In some cases, a more useful approach might be explicit web scraping using a package like BeautifulSoup or Selenium. For example, Craigslist has no API, but can easily and productively be scraped using BeautifulSoup.\n",
        "\n",
        "**5. Pick an API, download some data, wrangle them, and produce some EDA results, as we did in the previous steps with the saferproducts.gov API; or, if you can't get it to work, document why. If you have the time and it's low cost, push the results to a streamlit page. If you have had enough, I recommend https://www.eia.gov/opendata/browser/electricity, since there is a friendly query builder that you can use to learn.**"
      ]
    },
    {
      "cell_type": "code",
      "source": [
        "api_key = 'NcqZdYBer2T5q4Wt1AbyqdEcAqmaG0gaJRiFpDNH'\n",
        "url = 'https://api.eia.gov/v2/coal/price-by-rank/data/' # Location of the API\n",
        "query = f'?api_key={api_key}&frequency=annual&data[0]=price&sort[0][column]=period&sort[0][direction]=desc&offset=0&length=5000'\n",
        "\n",
        "response = urllib.request.urlopen(url+query)\n",
        "response_bytes = response.read()\n",
        "data = json.loads(response_bytes) # Convert response to json\n",
        "response.close()\n",
        "\n",
        "print(data.keys())"
      ],
      "metadata": {
        "colab": {
          "base_uri": "https://localhost:8080/"
        },
        "id": "vltMzIEuLqEm",
        "outputId": "e0de91c2-c9c3-4961-c443-a94d924e3446"
      },
      "execution_count": 22,
      "outputs": [
        {
          "output_type": "stream",
          "name": "stdout",
          "text": [
            "dict_keys(['response', 'request', 'apiVersion', 'ExcelAddInVersion'])\n"
          ]
        }
      ]
    },
    {
      "cell_type": "code",
      "source": [
        "# Extract relevant data\n",
        "\n",
        "coalRankDescription = [item['coalRankDescription'] for item in data['response']['data']]\n",
        "print(coalRankDescription)\n"
      ],
      "metadata": {
        "colab": {
          "base_uri": "https://localhost:8080/"
        },
        "id": "ytZoM6hJNzsG",
        "outputId": "82d34085-2c17-471b-d318-7a954f17611a"
      },
      "execution_count": 10,
      "outputs": [
        {
          "output_type": "stream",
          "name": "stdout",
          "text": [
            "['All', 'Subbituminous', 'Lignite', 'Bituminous', 'Anthracite', 'All', 'Subbituminous', 'Lignite', 'Bituminous', 'All', 'Lignite', 'Bituminous', 'Anthracite', 'All', 'Subbituminous', 'Lignite', 'Bituminous', 'All', 'Lignite', 'Bituminous', 'All', 'Lignite', 'Bituminous', 'All', 'Bituminous', 'Anthracite', 'All', 'Subbituminous', 'Lignite', 'Bituminous', 'All', 'Subbituminous', 'Bituminous', 'All', 'Subbituminous', 'All', 'Subbituminous', 'Lignite', 'Bituminous', 'All', 'Lignite', 'Bituminous', 'All', 'Bituminous', 'All', 'Lignite', 'Bituminous', 'All', 'Bituminous', 'All', 'Bituminous', 'Anthracite', 'All', 'Bituminous', 'All', 'Bituminous', 'Anthracite', 'All', 'Subbituminous', 'All', 'Subbituminous', 'All', 'Subbituminous', 'Bituminous', 'All', 'Bituminous', 'All', 'Subbituminous', 'Bituminous', 'All', 'Subbituminous', 'Lignite', 'Bituminous', 'All', 'Subbituminous', 'Bituminous', 'All', 'Subbituminous', 'Lignite', 'Bituminous', 'All', 'Lignite', 'All', 'Lignite', 'All', 'Lignite', 'All', 'Lignite', 'All', 'Bituminous', 'All', 'Bituminous', 'All', 'Bituminous', 'All', 'Bituminous', 'All', 'Lignite', 'Bituminous', 'All', 'Bituminous', 'All', 'Bituminous', 'All', 'Bituminous', 'All', 'Bituminous', 'All', 'Bituminous', 'All', 'Bituminous', 'All', 'Lignite', 'All', 'Bituminous', 'All', 'Lignite', 'Bituminous', 'All', 'Bituminous', 'All', 'Bituminous', 'All', 'Bituminous', 'All', 'Bituminous', 'All', 'Bituminous', 'All', 'Anthracite', 'All', 'Bituminous', 'Anthracite', 'All', 'Bituminous', 'Anthracite', 'All', 'Bituminous', 'All', 'Bituminous', 'All', 'Lignite', 'Bituminous', 'All', 'Bituminous', 'All', 'Bituminous', 'Bituminous', 'All', 'Anthracite', 'All', 'Bituminous', 'Anthracite', 'All', 'Bituminous', 'Anthracite', 'All', 'All', 'Bituminous', 'All', 'Bituminous', 'All', 'Bituminous', 'All', 'Bituminous', 'All', 'Lignite', 'All', 'Bituminous', 'All', 'Lignite', 'Bituminous', 'All', 'Bituminous', 'All', 'Bituminous', 'All', 'Bituminous', 'All', 'Bituminous', 'All', 'Subbituminous', 'Lignite', 'Bituminous', 'Anthracite', 'All', 'Subbituminous', 'Lignite', 'Bituminous', 'All', 'Lignite', 'Bituminous', 'Anthracite', 'All', 'Subbituminous', 'Lignite', 'Bituminous', 'All', 'Lignite', 'Bituminous', 'All', 'Lignite', 'Bituminous', 'All', 'Bituminous', 'Anthracite', 'All', 'Subbituminous', 'Lignite', 'Bituminous', 'All', 'Subbituminous', 'Bituminous', 'All', 'Subbituminous', 'All', 'Subbituminous', 'Lignite', 'Bituminous', 'All', 'Lignite', 'Bituminous', 'All', 'Bituminous', 'All', 'Lignite', 'Bituminous', 'All', 'Bituminous', 'All', 'Bituminous', 'Anthracite', 'All', 'Bituminous', 'All', 'Bituminous', 'Anthracite', 'All', 'Subbituminous', 'All', 'Subbituminous', 'All', 'Subbituminous', 'Bituminous', 'All', 'Bituminous', 'All', 'Subbituminous', 'Bituminous', 'All', 'Subbituminous', 'Lignite', 'Bituminous', 'All', 'Subbituminous', 'Bituminous', 'All', 'Subbituminous', 'Lignite', 'Bituminous', 'All', 'Lignite', 'All', 'Lignite', 'All', 'Lignite', 'All', 'Lignite', 'All', 'Bituminous', 'All', 'Bituminous', 'All', 'Subbituminous', 'Lignite', 'Bituminous', 'Anthracite', 'All', 'Subbituminous', 'Lignite', 'Bituminous', 'All', 'Lignite', 'Bituminous', 'Anthracite', 'All', 'Subbituminous', 'Lignite', 'Bituminous', 'All', 'Lignite', 'Bituminous', 'All', 'Lignite', 'Bituminous', 'All', 'Bituminous', 'Anthracite', 'All', 'Subbituminous', 'Lignite', 'Bituminous', 'All', 'Subbituminous', 'Bituminous', 'All', 'Subbituminous', 'All', 'Subbituminous', 'Lignite', 'Bituminous', 'All', 'Lignite', 'Bituminous', 'All', 'Bituminous', 'All', 'Lignite', 'Bituminous', 'All', 'Bituminous', 'All', 'Bituminous', 'Anthracite', 'All', 'Bituminous', 'All', 'Bituminous', 'Anthracite', 'All', 'Subbituminous', 'All', 'Subbituminous', 'All', 'Subbituminous', 'Bituminous', 'All', 'Bituminous', 'All', 'Subbituminous', 'Bituminous', 'All', 'Subbituminous', 'Lignite', 'Bituminous', 'All', 'Subbituminous', 'Bituminous', 'All', 'Subbituminous', 'Lignite', 'Bituminous', 'All', 'Lignite', 'Bituminous', 'All', 'Lignite', 'All', 'Lignite', 'Bituminous', 'All', 'Bituminous', 'All', 'Lignite', 'All', 'Bituminous', 'All', 'Bituminous', 'All', 'Bituminous', 'All', 'Bituminous', 'All', 'Lignite', 'Bituminous', 'All', 'Bituminous', 'All', 'Bituminous', 'All', 'Bituminous', 'All', 'Bituminous', 'All', 'Bituminous', 'All', 'Bituminous', 'All', 'Lignite', 'All', 'Bituminous', 'All', 'Lignite', 'Bituminous', 'All', 'Bituminous', 'All', 'Bituminous', 'All', 'Bituminous', 'All', 'Bituminous', 'All', 'Bituminous', 'All', 'Anthracite', 'All', 'Bituminous', 'Anthracite', 'All', 'Bituminous', 'Anthracite', 'Subbituminous', 'Subbituminous', 'Lignite', 'Bituminous', 'Anthracite', 'All', 'Subbituminous', 'Lignite', 'Bituminous', 'All', 'Lignite', 'Bituminous', 'Anthracite', 'All', 'Subbituminous', 'Lignite', 'Bituminous', 'All', 'Lignite', 'Bituminous', 'All', 'Lignite', 'Bituminous', 'All', 'Bituminous', 'Anthracite', 'All', 'Subbituminous', 'Lignite', 'Bituminous', 'All', 'Subbituminous', 'Bituminous', 'All', 'Subbituminous', 'All', 'Subbituminous', 'Lignite', 'Bituminous', 'All', 'Lignite', 'Bituminous', 'All', 'Bituminous', 'All', 'Lignite', 'Bituminous', 'All', 'Bituminous', 'All', 'Bituminous', 'Anthracite', 'All', 'Bituminous', 'All', 'Bituminous', 'Anthracite', 'All', 'Bituminous', 'All', 'Bituminous', 'All', 'Subbituminous', 'Lignite', 'Bituminous', 'All', 'Lignite', 'Bituminous', 'All', 'Bituminous', 'All', 'Lignite', 'All', 'Lignite', 'Bituminous', 'All', 'Bituminous', 'All', 'Lignite', 'All', 'Bituminous', 'All', 'Bituminous', 'All', 'Bituminous', 'All', 'Bituminous', 'All', 'Lignite', 'Bituminous', 'All', 'Bituminous', 'All', 'Bituminous', 'All', 'Bituminous', 'All', 'Bituminous', 'All', 'Bituminous', 'All', 'Bituminous', 'All', 'Lignite', 'All', 'Bituminous', 'All', 'Lignite', 'Bituminous', 'All', 'Bituminous', 'All', 'Bituminous', 'All', 'Bituminous', 'All', 'Bituminous', 'All', 'Bituminous', 'All', 'Anthracite', 'All', 'Bituminous', 'Anthracite', 'All', 'Bituminous', 'Anthracite', 'All', 'Subbituminous', 'All', 'Subbituminous', 'All', 'Subbituminous', 'Bituminous', 'All', 'Bituminous', 'All', 'Subbituminous', 'Bituminous', 'All', 'Subbituminous', 'Lignite', 'Bituminous', 'All', 'All', 'Subbituminous', 'Lignite', 'Bituminous', 'Anthracite', 'All', 'Subbituminous', 'Lignite', 'Bituminous', 'All', 'Lignite', 'Bituminous', 'Anthracite', 'All', 'Subbituminous', 'Lignite', 'Bituminous', 'All', 'Lignite', 'Bituminous', 'All', 'Lignite', 'Bituminous', 'All', 'Bituminous', 'Anthracite', 'All', 'Subbituminous', 'Lignite', 'Bituminous', 'All', 'Subbituminous', 'Bituminous', 'All', 'Subbituminous', 'All', 'Subbituminous', 'Lignite', 'Bituminous', 'All', 'Lignite', 'Bituminous', 'All', 'Bituminous', 'All', 'Lignite', 'Bituminous', 'All', 'Bituminous', 'All', 'Bituminous', 'Anthracite', 'All', 'Bituminous', 'All', 'Bituminous', 'Anthracite', 'All', 'Subbituminous', 'All', 'Subbituminous', 'All', 'Subbituminous', 'Bituminous', 'All', 'Bituminous', 'All', 'Subbituminous', 'Bituminous', 'All', 'Subbituminous', 'Lignite', 'Bituminous', 'All', 'Subbituminous', 'Bituminous', 'All', 'Bituminous', 'All', 'Subbituminous', 'Lignite', 'Bituminous', 'All', 'Lignite', 'Bituminous', 'All', 'Bituminous', 'All', 'Lignite', 'All', 'Lignite', 'Bituminous', 'All', 'Bituminous', 'All', 'Lignite', 'All', 'Bituminous', 'All', 'Bituminous', 'All', 'Bituminous', 'All', 'Bituminous', 'All', 'Lignite', 'Bituminous', 'All', 'Bituminous', 'All', 'Bituminous', 'All', 'Bituminous', 'All', 'Bituminous', 'All', 'Bituminous', 'All', 'Bituminous', 'All', 'Lignite', 'All', 'Bituminous', 'All', 'Lignite', 'Bituminous', 'All', 'Bituminous', 'All', 'Bituminous', 'All', 'Bituminous', 'All', 'Bituminous', 'All', 'Bituminous', 'All', 'Anthracite', 'All', 'Bituminous', 'Anthracite', 'All', 'Bituminous', 'Anthracite', 'All', 'Bituminous', 'All', 'Bituminous', 'All', 'Bituminous', 'All', 'Lignite', 'All', 'Bituminous', 'All', 'Lignite', 'Bituminous', 'All', 'Bituminous', 'All', 'Bituminous', 'All', 'Bituminous', 'All', 'Bituminous', 'All', 'Bituminous', 'All', 'Anthracite', 'All', 'Bituminous', 'Anthracite', 'All', 'Bituminous', 'Anthracite', 'All', 'Subbituminous', 'Lignite', 'Bituminous', 'Anthracite', 'All', 'Subbituminous', 'Lignite', 'Bituminous', 'All', 'Lignite', 'Bituminous', 'Anthracite', 'All', 'Subbituminous', 'Lignite', 'Bituminous', 'All', 'Lignite', 'Bituminous', 'All', 'Lignite', 'Bituminous', 'All', 'Bituminous', 'Anthracite', 'All', 'Subbituminous', 'Lignite', 'Bituminous', 'All', 'Subbituminous', 'Bituminous', 'All', 'Subbituminous', 'All', 'Subbituminous', 'Lignite', 'Bituminous', 'All', 'Lignite', 'Bituminous', 'All', 'Bituminous', 'All', 'Lignite', 'Bituminous', 'All', 'Bituminous', 'All', 'Bituminous', 'Anthracite', 'All', 'Bituminous', 'All', 'Bituminous', 'Anthracite', 'All', 'Subbituminous', 'All', 'Subbituminous', 'All', 'Subbituminous', 'Bituminous', 'All', 'Bituminous', 'All', 'Subbituminous', 'Bituminous', 'All', 'Subbituminous', 'Lignite', 'Bituminous', 'All', 'Subbituminous', 'Bituminous', 'All', 'Bituminous', 'All', 'Subbituminous', 'Lignite', 'Bituminous', 'All', 'Lignite', 'Bituminous', 'All', 'Bituminous', 'All', 'Lignite', 'All', 'Lignite', 'Bituminous', 'All', 'Bituminous', 'All', 'Lignite', 'All', 'Bituminous', 'All', 'Bituminous', 'All', 'Bituminous', 'All', 'Bituminous', 'All', 'Lignite', 'Bituminous', 'All', 'Bituminous', 'All', 'Bituminous', 'All', 'Bituminous', 'All', 'Subbituminous', 'Lignite', 'Bituminous', 'Anthracite', 'Lignite', 'Bituminous', 'All', 'Lignite', 'Bituminous', 'Anthracite', 'All', 'Subbituminous', 'Lignite', 'Bituminous', 'All', 'Lignite', 'Bituminous', 'All', 'Lignite', 'Bituminous', 'All', 'Bituminous', 'Anthracite', 'All', 'Subbituminous', 'Lignite', 'Bituminous', 'All', 'Subbituminous', 'Bituminous', 'All', 'Subbituminous', 'All', 'Subbituminous', 'Lignite', 'Bituminous', 'All', 'Lignite', 'Bituminous', 'All', 'Bituminous', 'All', 'Lignite', 'Bituminous', 'All', 'Bituminous', 'All', 'Subbituminous', 'All', 'Bituminous', 'Anthracite', 'All', 'Bituminous', 'All', 'Bituminous', 'Anthracite', 'All', 'Subbituminous', 'All', 'Subbituminous', 'All', 'Subbituminous', 'Bituminous', 'All', 'Bituminous', 'All', 'Subbituminous', 'Bituminous', 'All', 'Subbituminous', 'Lignite', 'Bituminous', 'All', 'Subbituminous', 'Bituminous', 'All', 'Bituminous', 'All', 'Subbituminous', 'Lignite', 'Bituminous', 'All', 'Lignite', 'All', 'Bituminous', 'All', 'Lignite', 'All', 'Bituminous', 'All', 'Lignite', 'Bituminous', 'All', 'Bituminous', 'All', 'Bituminous', 'All', 'Anthracite', 'All', 'Bituminous', 'Anthracite', 'All', 'Bituminous', 'Anthracite', 'All', 'Lignite', 'All', 'Bituminous', 'All', 'Bituminous', 'All', 'Bituminous', 'All', 'Bituminous', 'All', 'Lignite', 'Bituminous', 'All', 'Bituminous', 'All', 'Bituminous', 'All', 'Bituminous', 'All', 'Bituminous', 'All', 'Bituminous', 'All', 'Bituminous', 'All', 'Lignite', 'All', 'Bituminous', 'All', 'Bituminous', 'All', 'Lignite', 'Bituminous', 'All', 'Bituminous', 'All', 'Bituminous', 'All', 'Bituminous', 'All', 'Bituminous', 'All', 'Bituminous', 'All', 'Bituminous', 'All', 'Lignite', 'All', 'Bituminous', 'All', 'Bituminous', 'All', 'Lignite', 'Bituminous', 'All', 'Bituminous', 'All', 'Bituminous', 'All', 'Bituminous', 'All', 'Bituminous', 'All', 'Bituminous', 'All', 'Anthracite', 'All', 'Bituminous', 'Anthracite', 'All', 'Bituminous', 'Anthracite', 'Subbituminous', 'Lignite', 'Bituminous', 'Anthracite', 'All', 'Subbituminous', 'Lignite', 'Bituminous', 'All', 'Lignite', 'Bituminous', 'Anthracite', 'All', 'Subbituminous', 'Lignite', 'Bituminous', 'All', 'Lignite', 'Bituminous', 'All', 'Lignite', 'Bituminous', 'All', 'Bituminous', 'Anthracite', 'All', 'Subbituminous', 'Lignite', 'Bituminous', 'All', 'Subbituminous', 'Bituminous', 'All', 'Subbituminous', 'All', 'Subbituminous', 'Lignite', 'Bituminous', 'All', 'Lignite', 'Bituminous', 'All', 'Bituminous', 'All', 'All', 'Lignite', 'Bituminous', 'All', 'Bituminous', 'All', 'Bituminous', 'Anthracite', 'All', 'Bituminous', 'All', 'Bituminous', 'Anthracite', 'All', 'Subbituminous', 'All', 'Subbituminous', 'All', 'Subbituminous', 'Bituminous', 'All', 'Bituminous', 'All', 'Subbituminous', 'Bituminous', 'All', 'Subbituminous', 'Lignite', 'Bituminous', 'All', 'Subbituminous', 'Bituminous', 'All', 'Bituminous', 'All', 'Subbituminous', 'Lignite', 'Bituminous', 'All', 'Lignite', 'All', 'Bituminous', 'All', 'Lignite', 'All', 'Bituminous', 'All', 'Lignite', 'Bituminous', 'All', 'Bituminous', 'All', 'Lignite', 'All', 'Bituminous', 'All', 'Bituminous', 'All', 'Bituminous', 'All', 'Bituminous', 'All', 'Lignite', 'Bituminous', 'All', 'Bituminous', 'All', 'Bituminous', 'All', 'Bituminous', 'All', 'Bituminous', 'All', 'Subbituminous', 'Lignite', 'Bituminous', 'Anthracite', 'All', 'Subbituminous', 'Lignite', 'Bituminous', 'All', 'Lignite', 'Bituminous', 'Anthracite', 'All', 'Subbituminous', 'Lignite', 'All', 'Subbituminous', 'Lignite', 'Bituminous', 'All', 'Subbituminous', 'Bituminous', 'All', 'Lignite', 'Bituminous', 'All', 'Lignite', 'Bituminous', 'All', 'Bituminous', 'Anthracite', 'Bituminous', 'All', 'Lignite', 'All', 'Bituminous', 'All', 'Subbituminous', 'All', 'Subbituminous', 'Lignite', 'Bituminous', 'All', 'Lignite', 'Bituminous', 'All', 'Bituminous', 'All', 'Lignite', 'Bituminous', 'All', 'Bituminous', 'All', 'Bituminous', 'Anthracite', 'All', 'Bituminous', 'All', 'Bituminous', 'Anthracite', 'All', 'Subbituminous', 'All', 'Subbituminous', 'All', 'Subbituminous', 'Bituminous', 'All', 'Bituminous', 'All', 'Subbituminous', 'Bituminous', 'All', 'Subbituminous', 'Lignite', 'Bituminous', 'All', 'Subbituminous', 'Bituminous', 'All', 'Bituminous', 'All', 'Subbituminous', 'Lignite', 'Bituminous', 'All', 'Lignite', 'All', 'Bituminous', 'All', 'Lignite', 'Bituminous', 'All', 'Bituminous', 'All', 'Lignite', 'All', 'Bituminous', 'All', 'Bituminous', 'All', 'Bituminous', 'All', 'Bituminous', 'All', 'Lignite', 'Bituminous', 'All', 'Bituminous', 'All', 'Bituminous', 'All', 'Bituminous', 'All', 'Bituminous', 'All', 'Bituminous', 'All', 'Bituminous', 'All', 'Lignite', 'All', 'Bituminous', 'All', 'Bituminous', 'All', 'Lignite', 'Bituminous', 'All', 'Bituminous', 'All', 'Bituminous', 'All', 'Bituminous', 'All', 'Bituminous', 'All', 'Bituminous', 'All', 'Anthracite', 'All', 'Bituminous', 'Anthracite', 'All', 'Bituminous', 'Anthracite', 'Anthracite', 'All', 'Subbituminous', 'All', 'Subbituminous', 'Lignite', 'Bituminous', 'All', 'Lignite', 'Bituminous', 'All', 'Bituminous', 'All', 'Lignite', 'Bituminous', 'All', 'Bituminous', 'All', 'Bituminous', 'Anthracite', 'All', 'Bituminous', 'All', 'Bituminous', 'Anthracite', 'All', 'Subbituminous', 'All', 'Subbituminous', 'All', 'Subbituminous', 'All', 'Bituminous', 'All', 'Subbituminous', 'Bituminous', 'All', 'Subbituminous', 'Lignite', 'Bituminous', 'All', 'Subbituminous', 'Bituminous', 'All', 'Bituminous', 'All', 'Subbituminous', 'Lignite', 'Bituminous', 'All', 'Lignite', 'All', 'Bituminous', 'All', 'Lignite', 'All', 'Bituminous', 'All', 'Lignite', 'Bituminous', 'All', 'Bituminous', 'All', 'All', 'Bituminous', 'All', 'Bituminous', 'All', 'Lignite', 'Bituminous', 'All', 'Subbituminous', 'Lignite', 'Bituminous', 'All', 'Lignite', 'Bituminous', 'All', 'Lignite', 'Bituminous', 'All', 'Bituminous', 'Anthracite', 'All', 'Subbituminous', 'Lignite', 'Bituminous', 'All', 'Subbituminous', 'Bituminous', 'All', 'Bituminous', 'All', 'Bituminous', 'All', 'Bituminous', 'All', 'Bituminous', 'All', 'Bituminous', 'All', 'Bituminous', 'All', 'Lignite', 'All', 'Bituminous', 'All', 'Lignite', 'Bituminous', 'All', 'Bituminous', 'All', 'Bituminous', 'All', 'Bituminous', 'All', 'Bituminous', 'All', 'Lignite', 'Bituminous', 'All', 'Anthracite', 'All', 'Bituminous', 'Anthracite', 'All', 'Bituminous', 'Anthracite', 'All', 'All', 'Bituminous', 'All', 'Bituminous', 'Subbituminous', 'Lignite', 'Bituminous', 'Anthracite', 'All', 'Subbituminous', 'Lignite', 'Bituminous', 'All', 'Lignite', 'Bituminous', 'Bituminous', 'Lignite', 'Bituminous', 'All', 'Lignite', 'Subbituminous', 'Lignite', 'Bituminous', 'Anthracite', 'All', 'Subbituminous', 'Lignite', 'Bituminous', 'All', 'Lignite', 'Bituminous', 'Anthracite', 'All', 'Subbituminous', 'Lignite', 'Bituminous', 'All', 'Lignite', 'Bituminous', 'All', 'Lignite', 'Bituminous', 'All', 'Bituminous', 'Anthracite', 'All', 'Subbituminous', 'All', 'Subbituminous', 'Bituminous', 'All', 'Bituminous', 'All', 'Subbituminous', 'Bituminous', 'All', 'Bituminous', 'Anthracite', 'All', 'Bituminous', 'All', 'Bituminous', 'Anthracite', 'All', 'Subbituminous', 'All', 'Subbituminous', 'All', 'Subbituminous', 'All', 'Bituminous', 'All', 'Subbituminous', 'Bituminous', 'All', 'Subbituminous', 'Lignite', 'Bituminous', 'All', 'Subbituminous', 'Bituminous', 'All', 'Bituminous', 'All', 'Subbituminous', 'Lignite', 'Bituminous', 'All', 'Bituminous', 'All', 'Anthracite', 'All', 'Bituminous', 'Anthracite', 'All', 'Bituminous', 'Anthracite', 'All', 'All', 'Lignite', 'Bituminous', 'Subbituminous', 'Lignite', 'Bituminous', 'All', 'Lignite', 'Bituminous', 'All', 'Bituminous', 'All', 'Lignite', 'All', 'Bituminous', 'All', 'Bituminous', 'All', 'Bituminous', 'All', 'Bituminous', 'All', 'Lignite', 'Bituminous', 'All', 'Bituminous', 'All', 'Bituminous', 'All', 'Bituminous', 'All', 'Bituminous', 'All', 'Bituminous', 'All', 'Bituminous', 'All', 'Lignite', 'All', 'Bituminous', 'All', 'Lignite', 'Bituminous', 'All', 'Bituminous', 'All', 'Bituminous', 'All', 'Bituminous', 'All', 'Bituminous', 'All', 'Bituminous', 'All', 'Lignite', 'All', 'All', 'Bituminous', 'All', 'Lignite', 'All', 'All', 'Subbituminous', 'Bituminous', 'All', 'Subbituminous', 'Lignite', 'Bituminous', 'All', 'Lignite', 'Bituminous', 'All', 'Subbituminous', 'All', 'Lignite', 'Bituminous', 'All', 'Bituminous', 'All', 'Bituminous', 'All', 'Bituminous', 'Anthracite', 'All', 'Bituminous', 'All', 'Bituminous', 'Anthracite', 'All', 'Subbituminous', 'All', 'Subbituminous', 'All', 'Subbituminous', 'All', 'Bituminous', 'All', 'Bituminous', 'All', 'Subbituminous', 'Lignite', 'Bituminous', 'All', 'Subbituminous', 'Bituminous', 'All', 'Bituminous', 'All', 'Subbituminous', 'Lignite', 'Bituminous', 'All', 'Lignite', 'All', 'Bituminous', 'All', 'Lignite', 'All', 'Bituminous', 'All', 'Lignite', 'Bituminous', 'All', 'Bituminous', 'All', 'Lignite', 'All', 'Bituminous', 'All', 'Bituminous', 'All', 'Bituminous', 'All', 'Bituminous', 'All', 'Lignite', 'Bituminous', 'All', 'Bituminous', 'All', 'Bituminous', 'All', 'Bituminous', 'All', 'Bituminous', 'All', 'Bituminous', 'All', 'Bituminous', 'All', 'Lignite', 'All', 'Bituminous', 'All', 'Bituminous', 'All', 'Lignite', 'Bituminous', 'All', 'Bituminous', 'All', 'Bituminous', 'All', 'Bituminous', 'All', 'Bituminous', 'All', 'Bituminous', 'All', 'Anthracite', 'All', 'Bituminous', 'Anthracite', 'All', 'Bituminous', 'Anthracite', 'All', 'Subbituminous', 'Lignite', 'Bituminous', 'All', 'Subbituminous', 'Lignite', 'Bituminous', 'Anthracite', 'All', 'Subbituminous', 'Lignite', 'Bituminous', 'All', 'Lignite', 'Bituminous', 'Anthracite', 'All', 'Subbituminous', 'Lignite', 'Bituminous', 'All', 'Lignite', 'Bituminous', 'All', 'Lignite', 'Bituminous', 'All', 'Bituminous', 'Anthracite', 'Subbituminous', 'All', 'Bituminous', 'All', 'Bituminous', 'All', 'Bituminous', 'Anthracite', 'All', 'Bituminous', 'All', 'Bituminous', 'Anthracite', 'All', 'Subbituminous', 'All', 'Subbituminous', 'All', 'Subbituminous', 'All', 'Bituminous', 'All', 'Subbituminous', 'All', 'Subbituminous', 'Lignite', 'All', 'Subbituminous', 'Bituminous', 'All', 'Bituminous', 'All', 'Subbituminous', 'Lignite', 'Bituminous', 'All', 'Lignite', 'All', 'Bituminous', 'All', 'Anthracite', 'All', 'Bituminous', 'Anthracite', 'All', 'Bituminous', 'Anthracite', 'All', 'Bituminous', 'All', 'Lignite', 'All', 'Lignite', 'Bituminous', 'All', 'Bituminous', 'All', 'Lignite', 'All', 'Bituminous', 'All', 'Bituminous', 'All', 'Bituminous', 'All', 'Bituminous', 'All', 'Lignite', 'Bituminous', 'All', 'Bituminous', 'All', 'Bituminous', 'All', 'Bituminous', 'All', 'Bituminous', 'All', 'Bituminous', 'All', 'Bituminous', 'All', 'Lignite', 'All', 'Bituminous', 'All', 'Bituminous', 'All', 'Lignite', 'Bituminous', 'All', 'Bituminous', 'All', 'Bituminous', 'All', 'Bituminous', 'All', 'Bituminous', 'All', 'Subbituminous', 'Bituminous', 'All', 'Subbituminous', 'Lignite', 'Bituminous', 'All', 'Lignite', 'Bituminous', 'All', 'Subbituminous', 'Lignite', 'Bituminous', 'All', 'Lignite', 'Bituminous', 'All', 'Bituminous', 'All', 'Lignite', 'Bituminous', 'All', 'Bituminous', 'Subbituminous', 'Lignite', 'Bituminous', 'Anthracite', 'All', 'Subbituminous', 'Lignite', 'Bituminous', 'All', 'Lignite', 'Bituminous', 'Anthracite', 'All', 'Subbituminous', 'Lignite', 'Bituminous', 'All', 'Lignite', 'Anthracite', 'All', 'All', 'Bituminous', 'Anthracite', 'All', 'Bituminous', 'All', 'Bituminous', 'Anthracite', 'All', 'Subbituminous', 'All', 'Subbituminous', 'All', 'Subbituminous', 'All', 'Bituminous', 'All', 'Subbituminous', 'Bituminous', 'All', 'Subbituminous', 'Lignite', 'All', 'Subbituminous', 'Bituminous', 'All', 'Bituminous', 'Subbituminous', 'Lignite', 'Bituminous', 'Anthracite', 'All', 'Subbituminous', 'Lignite', 'Bituminous', 'All', 'Lignite', 'Bituminous', 'Anthracite', 'All', 'Subbituminous', 'Lignite', 'Bituminous', 'All', 'Lignite', 'Bituminous', 'All', 'Lignite', 'Bituminous', 'All', 'Bituminous', 'Anthracite', 'All', 'Subbituminous', 'All', 'Bituminous', 'All', 'Bituminous', 'All', 'All', 'Subbituminous', 'Lignite', 'Bituminous', 'All', 'Lignite', 'All', 'Bituminous', 'All', 'Lignite', 'All', 'Lignite', 'Bituminous', 'All', 'Bituminous', 'All', 'Lignite', 'All', 'Bituminous', 'All', 'Bituminous', 'All', 'Bituminous', 'All', 'Bituminous', 'All', 'Lignite', 'Bituminous', 'All', 'Bituminous', 'All', 'Bituminous', 'All', 'Bituminous', 'All', 'Bituminous', 'All', 'Bituminous', 'All', 'Bituminous', 'All', 'Lignite', 'All', 'Bituminous', 'All', 'Lignite', 'Bituminous', 'All', 'Bituminous', 'All', 'Bituminous', 'All', 'Bituminous', 'All', 'Bituminous', 'All', 'Bituminous', 'All', 'Anthracite', 'All', 'Bituminous', 'Anthracite', 'All', 'Bituminous', 'Anthracite', 'All', 'Subbituminous', 'Lignite', 'Bituminous', 'All', 'Lignite', 'Bituminous', 'All', 'Subbituminous', 'Bituminous', 'All', 'Subbituminous', 'Lignite', 'Bituminous', 'All', 'Lignite', 'Bituminous', 'Bituminous', 'All', 'Bituminous', 'All', 'Bituminous', 'All', 'Lignite', 'All', 'Bituminous', 'All', 'Bituminous', 'All', 'Lignite', 'Bituminous', 'All', 'Bituminous', 'All', 'Bituminous', 'All', 'Bituminous', 'All', 'Bituminous', 'All', 'Bituminous', 'All', 'Anthracite', 'All', 'Bituminous', 'Anthracite', 'All', 'Bituminous', 'Anthracite', 'All', 'Subbituminous', 'Lignite', 'Bituminous', 'Anthracite', 'All', 'Subbituminous', 'Lignite', 'Bituminous', 'All', 'Lignite', 'Bituminous', 'Anthracite', 'All', 'Subbituminous', 'Lignite', 'Bituminous', 'All', 'Lignite', 'Bituminous', 'All', 'Lignite', 'Bituminous', 'Bituminous', 'All', 'All', 'Bituminous', 'Anthracite', 'All', 'Subbituminous', 'All', 'Bituminous', 'All', 'Bituminous', 'All', 'Bituminous', 'Anthracite', 'All', 'Bituminous', 'All', 'Bituminous', 'Anthracite', 'All', 'Subbituminous', 'All', 'Subbituminous', 'All', 'Subbituminous', 'Bituminous', 'All', 'Bituminous', 'All', 'Subbituminous', 'Bituminous', 'All', 'Subbituminous', 'Lignite', 'All', 'Subbituminous', 'Bituminous', 'All', 'Bituminous', 'All', 'Subbituminous', 'Lignite', 'Bituminous', 'All', 'Lignite', 'All', 'Bituminous', 'All', 'Lignite', 'All', 'Bituminous', 'All', 'Lignite', 'Bituminous', 'All', 'Bituminous', 'All', 'Lignite', 'All', 'Bituminous', 'All', 'Bituminous', 'All', 'Bituminous', 'All', 'Bituminous', 'All', 'Lignite', 'Bituminous', 'All', 'Subbituminous', 'Lignite', 'Bituminous', 'All', 'Lignite', 'Bituminous', 'All', 'Subbituminous', 'Bituminous', 'All', 'Subbituminous', 'Lignite', 'Bituminous', 'All', 'Lignite', 'Bituminous', 'All', 'All', 'Bituminous', 'All', 'Bituminous', 'Subbituminous', 'Subbituminous', 'Lignite', 'Bituminous', 'Anthracite', 'All', 'Subbituminous', 'Lignite', 'Bituminous', 'All', 'Lignite', 'Bituminous', 'Anthracite', 'All', 'All', 'Subbituminous', 'Lignite', 'Bituminous', 'All', 'Lignite', 'Bituminous', 'All', 'Lignite', 'Bituminous', 'All', 'Bituminous', 'Bituminous', 'All', 'Bituminous', 'All', 'Bituminous', 'Anthracite', 'All', 'Bituminous', 'All', 'Bituminous', 'Anthracite', 'All', 'Subbituminous', 'All', 'Subbituminous', 'All', 'Subbituminous', 'Bituminous', 'All', 'Bituminous', 'All', 'Subbituminous', 'Bituminous', 'All', 'Subbituminous', 'Lignite', 'All', 'Subbituminous', 'Bituminous', 'All', 'Bituminous', 'All', 'Subbituminous', 'Lignite', 'Bituminous', 'All', 'Lignite', 'All', 'Bituminous', 'All', 'Lignite', 'All', 'Bituminous', 'All', 'Lignite', 'Bituminous', 'All', 'Bituminous', 'All', 'Lignite', 'All', 'Bituminous', 'All', 'Bituminous', 'All', 'Bituminous', 'All', 'Bituminous', 'All', 'Lignite', 'Bituminous', 'All', 'Bituminous', 'All', 'Bituminous', 'All', 'Bituminous', 'All', 'Bituminous', 'All', 'Bituminous', 'All', 'Bituminous', 'All', 'Lignite', 'All', 'Bituminous', 'All', 'Bituminous', 'All', 'Lignite', 'Bituminous', 'All', 'Bituminous', 'All', 'Bituminous', 'All', 'Bituminous', 'All', 'Bituminous', 'All', 'Bituminous', 'All', 'Anthracite', 'All', 'Bituminous', 'Anthracite', 'All', 'Bituminous', 'Anthracite', 'All', 'Subbituminous', 'Bituminous', 'All', 'Subbituminous', 'Subbituminous', 'Lignite', 'Bituminous', 'All', 'Lignite', 'Bituminous', 'All', 'Lignite', 'Bituminous', 'All', 'Lignite', 'Bituminous', 'All', 'All', 'Anthracite', 'All', 'Subbituminous', 'Lignite', 'Bituminous', 'Anthracite', 'All', 'Subbituminous', 'Lignite', 'Bituminous', 'All', 'Lignite', 'Bituminous', 'Anthracite', 'All', 'Subbituminous', 'Lignite', 'Bituminous', 'All', 'Lignite', 'Bituminous', 'All', 'Lignite', 'Bituminous', 'All', 'Bituminous', 'Anthracite', 'All', 'Subbituminous', 'All', 'Bituminous', 'All', 'Bituminous', 'All', 'Bituminous', 'Anthracite', 'All', 'Bituminous', 'All', 'Bituminous', 'Anthracite', 'All', 'Subbituminous', 'All', 'Subbituminous', 'All', 'Subbituminous', 'All', 'Subbituminous', 'All', 'Subbituminous', 'All', 'Bituminous', 'All', 'Subbituminous', 'Bituminous', 'All', 'Subbituminous', 'Lignite', 'All', 'Subbituminous', 'Bituminous', 'All', 'All', 'Bituminous', 'All', 'Subbituminous', 'Lignite', 'Bituminous', 'Bituminous', 'All', 'Lignite', 'All', 'Bituminous', 'All', 'Lignite', 'All', 'Bituminous', 'All', 'Lignite', 'Bituminous', 'All', 'Bituminous', 'All', 'Lignite', 'All', 'Bituminous', 'All', 'Bituminous', 'All', 'Bituminous', 'All', 'Bituminous', 'All', 'Lignite', 'Bituminous', 'All', 'Bituminous', 'All', 'Bituminous', 'All', 'Bituminous', 'All', 'Bituminous', 'All', 'Bituminous', 'All', 'Lignite', 'All', 'Bituminous', 'All', 'Bituminous', 'All', 'Lignite', 'Bituminous', 'All', 'Bituminous', 'All', 'Bituminous', 'All', 'Bituminous', 'All', 'Bituminous', 'All', 'Bituminous', 'All', 'Anthracite', 'All', 'Bituminous', 'Anthracite', 'All', 'Bituminous', 'Anthracite', 'All', 'Subbituminous', 'Lignite', 'Bituminous', 'All', 'Lignite', 'Bituminous', 'All', 'Subbituminous', 'Bituminous', 'All', 'Subbituminous', 'Lignite', 'Bituminous', 'All', 'Lignite', 'Bituminous', 'All', 'Subbituminous', 'Lignite', 'Bituminous', 'Anthracite', 'All', 'Subbituminous', 'Lignite', 'Bituminous', 'All', 'Lignite', 'Bituminous', 'Anthracite', 'All', 'Subbituminous', 'Lignite', 'Bituminous', 'All', 'Lignite', 'Bituminous', 'All', 'Lignite', 'Bituminous', 'All', 'Bituminous', 'Anthracite', 'All', 'Subbituminous', 'All', 'Bituminous', 'All', 'Bituminous', 'All', 'Bituminous', 'Anthracite', 'All', 'Bituminous', 'All', 'Bituminous', 'Anthracite', 'All', 'Subbituminous', 'All', 'Subbituminous', 'All', 'Subbituminous', 'All', 'Subbituminous', 'All', 'Subbituminous', 'All', 'Bituminous', 'All', 'Subbituminous', 'Bituminous', 'All', 'Subbituminous', 'Lignite', 'All', 'Subbituminous', 'Bituminous', 'All', 'Bituminous', 'All', 'Subbituminous', 'Lignite', 'Bituminous', 'All', 'Lignite', 'All', 'Bituminous', 'All', 'Lignite', 'All', 'Lignite', 'Bituminous', 'All', 'Bituminous', 'All', 'Lignite', 'All', 'Bituminous', 'All', 'Bituminous', 'All', 'Bituminous', 'All', 'Bituminous', 'All', 'Lignite', 'Bituminous', 'All', 'Bituminous', 'All', 'Bituminous', 'All', 'Bituminous', 'All', 'Bituminous', 'All', 'Bituminous', 'All', 'Bituminous', 'All', 'Lignite', 'All', 'Bituminous', 'All', 'Bituminous', 'All', 'Lignite', 'Bituminous', 'All', 'Bituminous', 'All', 'Bituminous', 'All', 'Bituminous', 'All', 'Bituminous', 'All', 'Bituminous', 'All', 'Anthracite', 'All', 'Bituminous', 'Anthracite', 'All', 'Bituminous', 'Anthracite', 'All', 'Subbituminous', 'Lignite', 'Bituminous', 'All', 'Lignite', 'Bituminous', 'All', 'Subbituminous', 'Bituminous', 'All', 'Subbituminous', 'Lignite', 'Bituminous', 'All', 'Lignite', 'Bituminous', 'All', 'Lignite', 'Bituminous', 'All', 'Lignite', 'Bituminous', 'Anthracite', 'All', 'Subbituminous', 'Lignite', 'Bituminous', 'Anthracite', 'All', 'Subbituminous', 'Subbituminous', 'Lignite', 'Bituminous', 'All', 'Lignite', 'Bituminous', 'All', 'Lignite', 'Bituminous', 'All', 'Bituminous', 'Anthracite', 'All', 'Subbituminous', 'All', 'Bituminous', 'All', 'Bituminous', 'All', 'Bituminous', 'Anthracite', 'All', 'Bituminous', 'All', 'Bituminous', 'Anthracite', 'All', 'Subbituminous', 'All', 'Subbituminous', 'All', 'Subbituminous', 'All', 'Subbituminous', 'All', 'Subbituminous', 'Bituminous', 'All', 'Bituminous', 'All', 'Subbituminous', 'Bituminous', 'All', 'Subbituminous', 'Lignite', 'All', 'Subbituminous', 'Bituminous', 'All', 'Bituminous', 'All', 'Subbituminous', 'Lignite', 'Bituminous', 'All', 'Lignite', 'Bituminous', 'All', 'Bituminous', 'All', 'Lignite', 'All', 'Lignite', 'Bituminous', 'All', 'Bituminous', 'All', 'Lignite', 'All', 'Bituminous', 'All', 'Bituminous', 'All', 'Bituminous', 'All', 'Bituminous', 'All', 'Lignite', 'Bituminous', 'All', 'Bituminous', 'All', 'Bituminous', 'All', 'Bituminous', 'All', 'Bituminous', 'All', 'Bituminous', 'All', 'Bituminous', 'All', 'Lignite', 'All', 'Bituminous', 'All', 'Bituminous', 'All', 'Lignite', 'Bituminous', 'All', 'Bituminous', 'All', 'Bituminous', 'All', 'Bituminous', 'All', 'Bituminous', 'All', 'Bituminous', 'All', 'Anthracite', 'All', 'Bituminous', 'Anthracite', 'All', 'Bituminous', 'Anthracite', 'All', 'Subbituminous', 'Lignite', 'Bituminous', 'All', 'Lignite', 'Bituminous', 'All', 'Subbituminous', 'Bituminous', 'All', 'Subbituminous', 'Lignite', 'Bituminous', 'All', 'Lignite', 'Bituminous', 'All', 'Subbituminous', 'Lignite', 'Bituminous', 'Anthracite', 'All', 'Subbituminous', 'Lignite', 'Bituminous', 'All', 'Lignite', 'Bituminous', 'Anthracite', 'All', 'Subbituminous', 'Lignite', 'Bituminous', 'All', 'Lignite', 'Bituminous', 'All', 'Lignite', 'Bituminous', 'All', 'Subbituminous', 'Bituminous', 'All', 'Subbituminous', 'Lignite', 'Bituminous', 'All', 'Lignite', 'Bituminous', 'All', 'Bituminous', 'All', 'Lignite', 'Bituminous', 'All', 'Bituminous', 'Anthracite', 'All', 'Subbituminous', 'All', 'Bituminous', 'All', 'Bituminous', 'All', 'All', 'Lignite', 'All', 'Lignite', 'Bituminous', 'All', 'Bituminous', 'Anthracite', 'All', 'Bituminous', 'All', 'Bituminous', 'Anthracite', 'All', 'Subbituminous', 'All', 'Subbituminous', 'All', 'Subbituminous', 'All', 'Subbituminous', 'All', 'Subbituminous', 'Bituminous', 'All', 'Bituminous', 'All', 'Subbituminous', 'Bituminous', 'All', 'Subbituminous', 'Lignite', 'All', 'Subbituminous', 'Bituminous', 'All', 'Bituminous', 'All', 'Subbituminous', 'Lignite', 'Bituminous', 'All', 'Lignite', 'Bituminous', 'All', 'Bituminous', 'Bituminous', 'All', 'Lignite', 'All', 'Bituminous', 'All', 'Bituminous', 'All', 'Bituminous', 'All', 'Bituminous', 'All', 'Lignite', 'Bituminous', 'All', 'Bituminous', 'All', 'Subbituminous', 'Lignite', 'Anthracite', 'Bituminous', 'All', 'Bituminous', 'All', 'Bituminous', 'All', 'Bituminous', 'All', 'Bituminous', 'All', 'Bituminous', 'Lignite', 'All', 'Bituminous', 'All', 'Bituminous', 'All', 'Lignite', 'All', 'Bituminous', 'All', 'Bituminous', 'All', 'All', 'Anthracite', 'Bituminous', 'All', 'Anthracite', 'All', 'Bituminous', 'Bituminous', 'All', 'Bituminous', 'All', 'Bituminous', 'Bituminous', 'All', 'Lignite', 'Bituminous', 'All', 'Bituminous', 'All', 'Bituminous', 'Anthracite', 'All', 'Bituminous', 'Anthracite', 'All', 'All', 'Bituminous', 'All', 'Bituminous', 'All', 'Bituminous', 'Anthracite', 'All', 'Subbituminous', 'Bituminous', 'All', 'Subbituminous', 'Lignite', 'Bituminous', 'All', 'Lignite', 'Bituminous', 'All', 'Subbituminous', 'Lignite', 'Bituminous', 'All', 'Lignite', 'Bituminous', 'All', 'Bituminous', 'All', 'Subbituminous', 'Lignite', 'Bituminous', 'Anthracite', 'All', 'Subbituminous', 'Lignite', 'Bituminous', 'All', 'Lignite', 'Bituminous', 'Anthracite', 'All', 'Subbituminous', 'Lignite', 'Bituminous', 'All', 'Lignite', 'Bituminous', 'All', 'Lignite', 'Bituminous', 'Anthracite', 'All', 'Subbituminous', 'All', 'Bituminous', 'All', 'Bituminous', 'All', 'Bituminous', 'Anthracite', 'All', 'Bituminous', 'All', 'Bituminous', 'All', 'Bituminous', 'All', 'Lignite', 'All', 'Bituminous', 'All', 'Bituminous', 'All', 'All', 'Bituminous', 'Bituminous', 'All', 'Bituminous', 'All', 'Bituminous', 'All', 'Bituminous', 'All', 'Bituminous', 'Lignite', 'All', 'Bituminous', 'All', 'Bituminous', 'All', 'Bituminous', 'All', 'Bituminous', 'All', 'Lignite', 'All', 'Bituminous', 'All', 'Bituminous', 'Lignite', 'All', 'Bituminous', 'All', 'Lignite', 'All', 'Bituminous', 'All', 'Bituminous', 'Lignite', 'All', 'Bituminous', 'Lignite', 'Subbituminous', 'All', 'Bituminous', 'All', 'Bituminous', 'Subbituminous', 'All', 'Lignite', 'Subbituminous', 'All', 'Bituminous', 'Subbituminous', 'All', 'Bituminous', 'All', 'Bituminous', 'Subbituminous', 'All', 'Subbituminous', 'All', 'Subbituminous', 'All', 'Subbituminous', 'All', 'Subbituminous', 'All', 'Anthracite', 'All', 'Bituminous', 'Lignite', 'All', 'Bituminous', 'Lignite', 'Subbituminous', 'All', 'Bituminous', 'Subbituminous', 'All', 'Bituminous', 'Lignite', 'All', 'Bituminous', 'Lignite', 'Subbituminous', 'All', 'Anthracite', 'Bituminous', 'All', 'Anthracite', 'Bituminous', 'All', 'Anthracite', 'All', 'Bituminous', 'All', 'Bituminous', 'All', 'Bituminous', 'All', 'Bituminous', 'All', 'Bituminous', 'All', 'Bituminous', 'Lignite', 'All', 'Bituminous', 'All', 'Bituminous', 'All', 'Lignite', 'All', 'Bituminous', 'All', 'Bituminous', 'All', 'Bituminous', 'All', 'Bituminous', 'All', 'Bituminous', 'All', 'Bituminous', 'All', 'Bituminous', 'Lignite', 'All', 'Bituminous', 'All', 'Bituminous', 'All', 'Bituminous', 'All', 'Bituminous', 'All', 'Lignite', 'All', 'Bituminous', 'All', 'Bituminous', 'Lignite', 'All', 'Lignite', 'All', 'Bituminous', 'All', 'Bituminous', 'Lignite', 'All', 'Bituminous', 'Lignite', 'Subbituminous', 'All', 'Bituminous', 'All', 'Bituminous', 'Subbituminous', 'All', 'Lignite', 'Subbituminous', 'All', 'Bituminous', 'Subbituminous', 'All', 'Bituminous', 'All', 'Bituminous', 'Subbituminous', 'All', 'Bituminous', 'Subbituminous', 'All', 'Bituminous', 'Subbituminous', 'All', 'Subbituminous', 'All', 'Subbituminous', 'All', 'Anthracite', 'Bituminous', 'All', 'Bituminous', 'All', 'Anthracite', 'Bituminous', 'All', 'Bituminous', 'All', 'Bituminous', 'All', 'Subbituminous', 'All', 'Anthracite', 'Bituminous', 'All', 'Bituminous', 'Lignite', 'All', 'Bituminous', 'Lignite', 'All', 'Bituminous', 'Lignite', 'Subbituminous', 'All', 'Anthracite', 'Bituminous', 'Lignite', 'All', 'Bituminous', 'Lignite', 'Subbituminous', 'All', 'Anthracite', 'Bituminous', 'Lignite', 'Subbituminous']\n"
          ]
        }
      ]
    },
    {
      "cell_type": "code",
      "source": [
        "plt.figure(figsize=(8, 6))\n",
        "pd.Series(coalRankDescription).value_counts().plot(kind='bar', color='pink')\n",
        "plt.title('Frequency of Coal Rank Description')\n",
        "plt.xlabel('Coal Rank Description')\n",
        "plt.ylabel('Frequency')\n",
        "plt.show()\n",
        "\n"
      ],
      "metadata": {
        "colab": {
          "base_uri": "https://localhost:8080/",
          "height": 654
        },
        "id": "eww93g24P2Py",
        "outputId": "1e5209ec-683e-4b9a-f6f8-c248e2fdd4e1"
      },
      "execution_count": 11,
      "outputs": [
        {
          "output_type": "display_data",
          "data": {
            "text/plain": [
              "<Figure size 800x600 with 1 Axes>"
            ],
            "image/png": "[encoded data removed]"
          },
          "metadata": {}
        }
      ]
    },
    {
      "cell_type": "code",
      "source": [
        "frequency_table = pd.Series(coalRankDescription).value_counts()\n",
        "coal_rank_series = pd.Series(coalRankDescription)\n",
        "\n",
        "frequency_counts = coal_rank_series.value_counts()\n",
        "\n",
        "frequency_percentages = (frequency_counts / frequency_counts.sum()) * 100\n",
        "\n",
        "# Combine counts and percentages into a DataFrame\n",
        "frequency_table = pd.DataFrame({\n",
        "    'Count': frequency_counts,\n",
        "    'Percentage': frequency_percentages\n",
        "})\n",
        "\n",
        "# Print the frequency table\n",
        "print(frequency_table)"
      ],
      "metadata": {
        "colab": {
          "base_uri": "https://localhost:8080/"
        },
        "id": "I3ne0NBlQ5kQ",
        "outputId": "7b9223f5-5e20-4417-b25e-6f4a584ad0b4"
      },
      "execution_count": 17,
      "outputs": [
        {
          "output_type": "stream",
          "name": "stdout",
          "text": [
            "               Count  Percentage\n",
            "All             1237   38.789589\n",
            "Bituminous      1039   32.580746\n",
            "Lignite          418   13.107557\n",
            "Subbituminous    319   10.003136\n",
            "Anthracite       176    5.518971\n"
          ]
        }
      ]
    },
    {
      "cell_type": "code",
      "source": [
        "print((coal_rank_series).value_counts())"
      ],
      "metadata": {
        "colab": {
          "base_uri": "https://localhost:8080/"
        },
        "id": "t8cwZ2cwe8jD",
        "outputId": "523a0e0f-4eae-4670-a907-3f9797077e97"
      },
      "execution_count": 18,
      "outputs": [
        {
          "output_type": "stream",
          "name": "stdout",
          "text": [
            "All              1237\n",
            "Bituminous       1039\n",
            "Lignite           418\n",
            "Subbituminous     319\n",
            "Anthracite        176\n",
            "Name: count, dtype: int64\n"
          ]
        }
      ]
    }
  ],
  "metadata": {
    "language_info": {
      "name": "python"
    },
    "colab": {
      "provenance": []
    },
    "kernelspec": {
      "name": "python3",
      "display_name": "Python 3"
    }
  },
  "nbformat": 4,
  "nbformat_minor": 0
}